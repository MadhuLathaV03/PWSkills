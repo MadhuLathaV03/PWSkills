{
 "cells": [
  {
   "cell_type": "code",
   "execution_count": 1,
   "id": "1c1fcb5b-be49-44af-b2cf-879c425d9579",
   "metadata": {},
   "outputs": [
    {
     "name": "stdin",
     "output_type": "stream",
     "text": [
      "Enter a string:  madam\n"
     ]
    },
    {
     "name": "stdout",
     "output_type": "stream",
     "text": [
      "Reversed string: madam\n"
     ]
    }
   ],
   "source": [
    "# Input a string from the user\n",
    "original_string = input(\"Enter a string: \")\n",
    "\n",
    "# Reverse the string using string slicing\n",
    "reversed_string = original_string[::-1]\n",
    "\n",
    "# Print the reversed string\n",
    "print(\"Reversed string:\", reversed_string)\n"
   ]
  },
  {
   "cell_type": "code",
   "execution_count": 2,
   "id": "4de73314-ae77-4a2d-b8cc-7b58a52d20c4",
   "metadata": {},
   "outputs": [
    {
     "name": "stdin",
     "output_type": "stream",
     "text": [
      "Enter a string:  madam\n"
     ]
    },
    {
     "name": "stdout",
     "output_type": "stream",
     "text": [
      "The string is a palindrome.\n"
     ]
    }
   ],
   "source": [
    "# Input a string from the user\n",
    "original_string = input(\"Enter a string: \")\n",
    "\n",
    "# Remove spaces and convert the string to lowercase for a case-insensitive check\n",
    "cleaned_string = original_string.replace(\" \", \"\").lower()\n",
    "\n",
    "# Reverse the string\n",
    "reversed_string = cleaned_string[::-1]\n",
    "\n",
    "# Check if the original string is equal to its reverse\n",
    "if cleaned_string == reversed_string:\n",
    "    print(\"The string is a palindrome.\")\n",
    "else:\n",
    "    print(\"The string is not a palindrome.\")\n"
   ]
  },
  {
   "cell_type": "code",
   "execution_count": 3,
   "id": "3ea87d8b-3d8c-4504-b7a0-e51edba66942",
   "metadata": {},
   "outputs": [
    {
     "name": "stdin",
     "output_type": "stream",
     "text": [
      "Enter a string:  Final\n"
     ]
    },
    {
     "name": "stdout",
     "output_type": "stream",
     "text": [
      "Uppercase string (using upper()): FINAL\n",
      "Uppercase string (using str.upper()): FINAL\n"
     ]
    }
   ],
   "source": [
    "# Input a string from the user\n",
    "original_string = input(\"Enter a string: \")\n",
    "\n",
    "# Convert the string to uppercase using the upper() method\n",
    "uppercase_string1 = original_string.upper()\n",
    "\n",
    "# Convert the string to uppercase using the str.upper() method\n",
    "uppercase_string2 = str.upper(original_string)\n",
    "\n",
    "# Print the converted strings\n",
    "print(\"Uppercase string (using upper()):\", uppercase_string1)\n",
    "print(\"Uppercase string (using str.upper()):\", uppercase_string2)\n"
   ]
  },
  {
   "cell_type": "code",
   "execution_count": 4,
   "id": "70a3242d-2ae2-4e29-a001-41b18489687e",
   "metadata": {},
   "outputs": [
    {
     "name": "stdin",
     "output_type": "stream",
     "text": [
      "Enter a string:  Hello World\n"
     ]
    },
    {
     "name": "stdout",
     "output_type": "stream",
     "text": [
      "Lowercase string (using lower()): hello world\n",
      "Lowercase string (using str.lower()): hello world\n"
     ]
    }
   ],
   "source": [
    "# Input a string from the user\n",
    "original_string = input(\"Enter a string: \")\n",
    "\n",
    "# Convert the string to lowercase using the lower() method\n",
    "lowercase_string1 = original_string.lower()\n",
    "\n",
    "# Convert the string to lowercase using the str.lower() method\n",
    "lowercase_string2 = str.lower(original_string)\n",
    "\n",
    "# Print the converted strings\n",
    "print(\"Lowercase string (using lower()):\", lowercase_string1)\n",
    "print(\"Lowercase string (using str.lower()):\", lowercase_string2)"
   ]
  },
  {
   "cell_type": "code",
   "execution_count": 5,
   "id": "6e073cb5-52b4-4e7a-a601-433161a46d55",
   "metadata": {},
   "outputs": [
    {
     "name": "stdin",
     "output_type": "stream",
     "text": [
      "Enter a string:  Joker\n"
     ]
    },
    {
     "name": "stdout",
     "output_type": "stream",
     "text": [
      "Number of vowels in the string: 2\n"
     ]
    }
   ],
   "source": [
    "# Input a string from the user\n",
    "input_string = input(\"Enter a string: \")\n",
    "\n",
    "# Initialize a counter for vowels\n",
    "vowel_count = 0\n",
    "\n",
    "# Define a list of vowels\n",
    "vowels = ['a', 'e', 'i', 'o', 'u']\n",
    "\n",
    "# Loop through each character in the string and count vowels\n",
    "for char in input_string:\n",
    "    if char.lower() in vowels:\n",
    "        vowel_count += 1\n",
    "\n",
    "print(\"Number of vowels in the string:\", vowel_count)\n"
   ]
  },
  {
   "cell_type": "code",
   "execution_count": 6,
   "id": "efbfb36d-7609-445b-be01-a9523c6db2fc",
   "metadata": {},
   "outputs": [
    {
     "name": "stdin",
     "output_type": "stream",
     "text": [
      "Enter a string:  Joker\n"
     ]
    },
    {
     "name": "stdout",
     "output_type": "stream",
     "text": [
      "Number of consonants in the string: 3\n"
     ]
    }
   ],
   "source": [
    "# Input a string from the user\n",
    "input_string = input(\"Enter a string: \")\n",
    "\n",
    "# Initialize a counter for consonants\n",
    "consonant_count = 0\n",
    "\n",
    "# Define a list of vowels\n",
    "vowels = ['a', 'e', 'i', 'o', 'u']\n",
    "\n",
    "# Loop through each character in the string and count consonants\n",
    "for char in input_string:\n",
    "    if char.isalpha() and char.lower() not in vowels:\n",
    "        consonant_count += 1\n",
    "\n",
    "print(\"Number of consonants in the string:\", consonant_count)"
   ]
  },
  {
   "cell_type": "code",
   "execution_count": 7,
   "id": "5dcdc163-760b-40eb-ad1a-6b0ca91d7e0c",
   "metadata": {},
   "outputs": [
    {
     "name": "stdin",
     "output_type": "stream",
     "text": [
      "Enter a string:  Hello World, How are you?\n"
     ]
    },
    {
     "name": "stdout",
     "output_type": "stream",
     "text": [
      "String without whitespaces: HelloWorld,Howareyou?\n"
     ]
    }
   ],
   "source": [
    "# Input a string from the user\n",
    "input_string = input(\"Enter a string: \")\n",
    "\n",
    "# Remove whitespaces using replace() method\n",
    "no_whitespace_string = input_string.replace(\" \", \"\")\n",
    "\n",
    "print(\"String without whitespaces:\", no_whitespace_string)"
   ]
  },
  {
   "cell_type": "code",
   "execution_count": 8,
   "id": "9733e7b8-1da1-4d3b-a959-fd20b4503a4d",
   "metadata": {},
   "outputs": [
    {
     "name": "stdin",
     "output_type": "stream",
     "text": [
      "Enter a string:  Hello World!\n"
     ]
    },
    {
     "name": "stdout",
     "output_type": "stream",
     "text": [
      "Length of the string: 12\n"
     ]
    }
   ],
   "source": [
    "# Input a string from the user\n",
    "input_string = input(\"Enter a string: \")\n",
    "\n",
    "# Initialize a counter for string length\n",
    "length = 0\n",
    "\n",
    "# Loop through the characters in the string and count\n",
    "for char in input_string:\n",
    "    length += 1\n",
    "\n",
    "print(\"Length of the string:\", length)\n"
   ]
  },
  {
   "cell_type": "code",
   "execution_count": 9,
   "id": "d717d156-81dc-4141-9747-c2d3c9958a63",
   "metadata": {},
   "outputs": [
    {
     "name": "stdin",
     "output_type": "stream",
     "text": [
      "Enter a string:  Hello World\n",
      "Enter a word to check:  low\n"
     ]
    },
    {
     "name": "stdout",
     "output_type": "stream",
     "text": [
      "The string does not contain the word.\n"
     ]
    }
   ],
   "source": [
    "# Input a string from the user\n",
    "input_string = input(\"Enter a string: \")\n",
    "\n",
    "# Input the word to check for\n",
    "word_to_check = input(\"Enter a word to check: \")\n",
    "\n",
    "if word_to_check in input_string:\n",
    "    print(\"The string contains the word.\")\n",
    "else:\n",
    "    print(\"The string does not contain the word.\")\n"
   ]
  },
  {
   "cell_type": "code",
   "execution_count": 10,
   "id": "1046dfa9-38ce-41b9-be3f-f89ccf63c3aa",
   "metadata": {},
   "outputs": [
    {
     "name": "stdin",
     "output_type": "stream",
     "text": [
      "Enter a string:  Hello World!\n",
      "Enter the word to replace:  World\n",
      "Enter the replacement word:  Hello\n"
     ]
    },
    {
     "name": "stdout",
     "output_type": "stream",
     "text": [
      "Updated string: Hello Hello!\n"
     ]
    }
   ],
   "source": [
    "# Input a string from the user\n",
    "input_string = input(\"Enter a string: \")\n",
    "\n",
    "# Input the word to replace and the replacement word\n",
    "word_to_replace = input(\"Enter the word to replace: \")\n",
    "replacement_word = input(\"Enter the replacement word: \")\n",
    "\n",
    "# Replace the word using replace() method\n",
    "updated_string = input_string.replace(word_to_replace, replacement_word)\n",
    "\n",
    "print(\"Updated string:\", updated_string)\n"
   ]
  },
  {
   "cell_type": "code",
   "execution_count": 11,
   "id": "94d8bd7e-bceb-4932-8c5e-1e518c7b1d81",
   "metadata": {},
   "outputs": [
    {
     "name": "stdin",
     "output_type": "stream",
     "text": [
      "Enter a string:  Where are you, How are you?\n",
      "Enter a word to count:  are\n"
     ]
    },
    {
     "name": "stdout",
     "output_type": "stream",
     "text": [
      "Occurrences of the word: 2\n"
     ]
    }
   ],
   "source": [
    "# Input a string from the user\n",
    "input_string = input(\"Enter a string: \")\n",
    "\n",
    "# Input the word to count\n",
    "word_to_count = input(\"Enter a word to count: \")\n",
    "\n",
    "# Use count() method to count occurrences\n",
    "count = input_string.lower().count(word_to_count.lower())\n",
    "\n",
    "print(\"Occurrences of the word:\", count)\n"
   ]
  },
  {
   "cell_type": "code",
   "execution_count": 12,
   "id": "f9b32f00-d0fa-468e-9f08-b7c0141dc539",
   "metadata": {},
   "outputs": [
    {
     "name": "stdin",
     "output_type": "stream",
     "text": [
      "Enter a string:  Where are you, How are you?\n",
      "Enter a word to find:  you\n"
     ]
    },
    {
     "name": "stdout",
     "output_type": "stream",
     "text": [
      "The first occurrence of 'you' is at index 10.\n"
     ]
    }
   ],
   "source": [
    "# Input a string from the user\n",
    "input_string = input(\"Enter a string: \")\n",
    "\n",
    "# Input the word to find\n",
    "word_to_find = input(\"Enter a word to find: \")\n",
    "\n",
    "# Find the first occurrence using find() method\n",
    "first_occurrence = input_string.lower().find(word_to_find.lower())\n",
    "\n",
    "if first_occurrence != -1:\n",
    "    print(f\"The first occurrence of '{word_to_find}' is at index {first_occurrence}.\")\n",
    "else:\n",
    "    print(f\"'{word_to_find}' not found in the string.\")\n"
   ]
  },
  {
   "cell_type": "code",
   "execution_count": 13,
   "id": "3333f0d2-cf0c-4c83-b361-b88faa57670b",
   "metadata": {},
   "outputs": [
    {
     "name": "stdin",
     "output_type": "stream",
     "text": [
      "Enter a string:  Where are you, How are you?\n",
      "Enter a word to find:  you\n"
     ]
    },
    {
     "name": "stdout",
     "output_type": "stream",
     "text": [
      "The last occurrence of 'you' is at index 23.\n"
     ]
    }
   ],
   "source": [
    "# Input a string from the user\n",
    "input_string = input(\"Enter a string: \")\n",
    "\n",
    "# Input the word to find\n",
    "word_to_find = input(\"Enter a word to find: \")\n",
    "\n",
    "# Find the last occurrence using rfind() method\n",
    "last_occurrence = input_string.lower().rfind(word_to_find.lower())\n",
    "\n",
    "if last_occurrence != -1:\n",
    "    print(f\"The last occurrence of '{word_to_find}' is at index {last_occurrence}.\")\n",
    "else:\n",
    "    print(f\"'{word_to_find}' not found in the string.\")\n"
   ]
  },
  {
   "cell_type": "code",
   "execution_count": 14,
   "id": "03d5a524-1967-4a44-a54d-314db9f1c81a",
   "metadata": {},
   "outputs": [
    {
     "name": "stdin",
     "output_type": "stream",
     "text": [
      "Enter a string:  Hello,  How are you?\n"
     ]
    },
    {
     "name": "stdout",
     "output_type": "stream",
     "text": [
      "List of words: ['Hello,', 'How', 'are', 'you?']\n"
     ]
    }
   ],
   "source": [
    "# Input a string from the user\n",
    "input_string = input(\"Enter a string: \")\n",
    "\n",
    "# Split the string into a list of words using split() method\n",
    "word_list = input_string.split()\n",
    "\n",
    "print(\"List of words:\", word_list)\n"
   ]
  },
  {
   "cell_type": "code",
   "execution_count": 16,
   "id": "a149e85d-7074-436a-b044-3b70c069d59e",
   "metadata": {},
   "outputs": [
    {
     "name": "stdin",
     "output_type": "stream",
     "text": [
      "Enter a list of words separated by spaces:  Hello How are you\n"
     ]
    },
    {
     "name": "stdout",
     "output_type": "stream",
     "text": [
      "Joined string: Hello How are you\n"
     ]
    }
   ],
   "source": [
    "# Input a list of words from the user\n",
    "word_list = input(\"Enter a list of words separated by spaces: \").split()\n",
    "\n",
    "# Join the words into a string using join() method\n",
    "joined_string = \" \".join(word_list)\n",
    "\n",
    "print(\"Joined string:\", joined_string)\n"
   ]
  },
  {
   "cell_type": "code",
   "execution_count": 1,
   "id": "ad789c4d-90a5-43c9-83fe-240e27e645a5",
   "metadata": {},
   "outputs": [
    {
     "name": "stdin",
     "output_type": "stream",
     "text": [
      "Enter a string with words separated by spaces:  Hi How are you?\n"
     ]
    },
    {
     "name": "stdout",
     "output_type": "stream",
     "text": [
      "String with words separated by underscores: Hi_How_are_you?\n"
     ]
    }
   ],
   "source": [
    "# Input a string from the user with words separated by spaces\n",
    "input_string = input(\"Enter a string with words separated by spaces: \")\n",
    "\n",
    "# Replace spaces with underscores using replace() method\n",
    "underscore_string = input_string.replace(\" \", \"_\")\n",
    "\n",
    "print(\"String with words separated by underscores:\", underscore_string)"
   ]
  },
  {
   "cell_type": "code",
   "execution_count": 2,
   "id": "f38681eb-c0fb-4d9c-91bb-f6685c0d0f4c",
   "metadata": {},
   "outputs": [
    {
     "name": "stdin",
     "output_type": "stream",
     "text": [
      "Enter a string:  Hello\n",
      "Enter the word or phrase to check for at the beginning:  Hell\n"
     ]
    },
    {
     "name": "stdout",
     "output_type": "stream",
     "text": [
      "The string starts with 'Hell'.\n"
     ]
    }
   ],
   "source": [
    "# Input a string from the user\n",
    "input_string = input(\"Enter a string: \")\n",
    "\n",
    "# Input the word or phrase to check for at the beginning\n",
    "word_to_check = input(\"Enter the word or phrase to check for at the beginning: \")\n",
    "\n",
    "# Check if the string starts with the specified word or phrase\n",
    "if input_string.startswith(word_to_check):\n",
    "    print(f\"The string starts with '{word_to_check}'.\")\n",
    "else:\n",
    "    print(f\"The string does not start with '{word_to_check}'.\")"
   ]
  },
  {
   "cell_type": "code",
   "execution_count": 3,
   "id": "bd6b3cbf-97e3-4e40-8a25-8a6d2c19f92b",
   "metadata": {},
   "outputs": [
    {
     "name": "stdin",
     "output_type": "stream",
     "text": [
      "Enter a string:  Modern\n",
      "Enter the word or phrase to check for at the end:  ern\n"
     ]
    },
    {
     "name": "stdout",
     "output_type": "stream",
     "text": [
      "The string ends with 'ern'.\n"
     ]
    }
   ],
   "source": [
    "# Input a string from the user\n",
    "input_string = input(\"Enter a string: \")\n",
    "\n",
    "# Input the word or phrase to check for at the end\n",
    "word_to_check = input(\"Enter the word or phrase to check for at the end: \")\n",
    "\n",
    "# Check if the string ends with the specified word or phrase\n",
    "if input_string.endswith(word_to_check):\n",
    "    print(f\"The string ends with '{word_to_check}'.\")\n",
    "else:\n",
    "    print(f\"The string does not end with '{word_to_check}'.\")\n"
   ]
  },
  {
   "cell_type": "code",
   "execution_count": 4,
   "id": "0126eb97-4cfa-4971-9a4e-83a1a4c60e31",
   "metadata": {},
   "outputs": [
    {
     "name": "stdin",
     "output_type": "stream",
     "text": [
      "Enter a string:  hello world\n"
     ]
    },
    {
     "name": "stdout",
     "output_type": "stream",
     "text": [
      "String in title case: Hello World\n"
     ]
    }
   ],
   "source": [
    "# Input a string from the user\n",
    "input_string = input(\"Enter a string: \")\n",
    "\n",
    "# Convert the string to title case using the title() method\n",
    "title_case_string = input_string.title()\n",
    "\n",
    "print(\"String in title case:\", title_case_string)\n"
   ]
  },
  {
   "cell_type": "code",
   "execution_count": 5,
   "id": "5ebfa842-16cb-418b-96e8-481f7b0a7940",
   "metadata": {},
   "outputs": [
    {
     "name": "stdin",
     "output_type": "stream",
     "text": [
      "Enter a string:  This is a python program\n"
     ]
    },
    {
     "name": "stdout",
     "output_type": "stream",
     "text": [
      "Longest word: program\n",
      "Length of the longest word: 7\n"
     ]
    }
   ],
   "source": [
    "# Input a string from the user\n",
    "input_string = input(\"Enter a string: \")\n",
    "\n",
    "# Split the string into words\n",
    "words = input_string.split()\n",
    "\n",
    "# Initialize variables to track the longest word and its length\n",
    "longest_word = \"\"\n",
    "max_length = 0\n",
    "\n",
    "# Iterate through the words to find the longest one\n",
    "for word in words:\n",
    "    if len(word) > max_length:\n",
    "        longest_word = word\n",
    "        max_length = len(word)\n",
    "\n",
    "print(\"Longest word:\", longest_word)\n",
    "print(\"Length of the longest word:\", max_length)\n"
   ]
  },
  {
   "cell_type": "code",
   "execution_count": 6,
   "id": "2033ef67-53a6-4bd5-a596-b2d0e36a173b",
   "metadata": {},
   "outputs": [
    {
     "name": "stdin",
     "output_type": "stream",
     "text": [
      "Enter a string:  This is a python program\n"
     ]
    },
    {
     "name": "stdout",
     "output_type": "stream",
     "text": [
      "Shortest word: a\n",
      "Length of the shortest word: 1\n"
     ]
    }
   ],
   "source": [
    "# Input a string from the user\n",
    "input_string = input(\"Enter a string: \")\n",
    "\n",
    "# Split the string into words\n",
    "words = input_string.split()\n",
    "\n",
    "# Initialize variables to track the shortest word and its length\n",
    "shortest_word = \"\"\n",
    "min_length = float('inf')  # Initialize to positive infinity\n",
    "\n",
    "# Iterate through the words to find the shortest one\n",
    "for word in words:\n",
    "    if len(word) < min_length:\n",
    "        shortest_word = word\n",
    "        min_length = len(word)\n",
    "\n",
    "print(\"Shortest word:\", shortest_word)\n",
    "print(\"Length of the shortest word:\", min_length)\n"
   ]
  },
  {
   "cell_type": "code",
   "execution_count": 8,
   "id": "8486318a-2815-43da-8d2e-e86ee5f5037a",
   "metadata": {},
   "outputs": [
    {
     "name": "stdin",
     "output_type": "stream",
     "text": [
      "Enter a string:  hello world\n"
     ]
    },
    {
     "name": "stdout",
     "output_type": "stream",
     "text": [
      "String with reversed order of words: world hello\n"
     ]
    }
   ],
   "source": [
    "# Input a string from the user\n",
    "input_string = input(\"Enter a string: \")\n",
    "\n",
    "# Split the string into words\n",
    "words = input_string.split()\n",
    "\n",
    "# Reverse the order of words\n",
    "reversed_words = words[::-1]\n",
    "\n",
    "# Join the reversed words to form a new string\n",
    "reversed_string = \" \".join(reversed_words)\n",
    "\n",
    "print(\"String with reversed order of words:\", reversed_string)\n"
   ]
  },
  {
   "cell_type": "code",
   "execution_count": 9,
   "id": "130d752d-2ed5-4a36-8013-c8f07e857bac",
   "metadata": {},
   "outputs": [
    {
     "name": "stdin",
     "output_type": "stream",
     "text": [
      "Enter a string:  abc123\n"
     ]
    },
    {
     "name": "stdout",
     "output_type": "stream",
     "text": [
      "The string is alphanumeric.\n"
     ]
    }
   ],
   "source": [
    "# Input a string from the user\n",
    "input_string = input(\"Enter a string: \")\n",
    "\n",
    "# Check if the string is alphanumeric\n",
    "if input_string.isalnum():\n",
    "    print(\"The string is alphanumeric.\")\n",
    "else:\n",
    "    print(\"The string is not alphanumeric.\")\n"
   ]
  },
  {
   "cell_type": "code",
   "execution_count": 10,
   "id": "5ea0005b-f36e-429b-b1c1-32463ced7fb0",
   "metadata": {},
   "outputs": [
    {
     "name": "stdin",
     "output_type": "stream",
     "text": [
      "Enter a string:  abc123\n"
     ]
    },
    {
     "name": "stdout",
     "output_type": "stream",
     "text": [
      "Extracted digits: 123\n"
     ]
    }
   ],
   "source": [
    "# Input a string from the user\n",
    "input_string = input(\"Enter a string: \")\n",
    "\n",
    "# Initialize a variable to store the extracted digits\n",
    "extracted_digits = \"\"\n",
    "\n",
    "# Iterate through each character in the string\n",
    "for char in input_string:\n",
    "    if char.isdigit():\n",
    "        extracted_digits += char\n",
    "\n",
    "print(\"Extracted digits:\", extracted_digits)\n",
    "\n"
   ]
  },
  {
   "cell_type": "code",
   "execution_count": 11,
   "id": "a0e35a8e-31e7-419e-a3f1-2169ce6ffed9",
   "metadata": {},
   "outputs": [
    {
     "name": "stdin",
     "output_type": "stream",
     "text": [
      "Enter a string:  abc123\n"
     ]
    },
    {
     "name": "stdout",
     "output_type": "stream",
     "text": [
      "Extracted alphabets: abc\n"
     ]
    }
   ],
   "source": [
    "# Input a string from the user\n",
    "input_string = input(\"Enter a string: \")\n",
    "\n",
    "# Initialize a variable to store the extracted alphabets\n",
    "extracted_alphabets = \"\"\n",
    "\n",
    "# Iterate through each character in the string\n",
    "for char in input_string:\n",
    "    if char.isalpha():\n",
    "        extracted_alphabets += char\n",
    "\n",
    "print(\"Extracted alphabets:\", extracted_alphabets)\n"
   ]
  },
  {
   "cell_type": "code",
   "execution_count": 12,
   "id": "ce4976f7-efcb-4b6e-82e5-0decb5fa72de",
   "metadata": {},
   "outputs": [
    {
     "name": "stdin",
     "output_type": "stream",
     "text": [
      "Enter a string:  Hello World\n"
     ]
    },
    {
     "name": "stdout",
     "output_type": "stream",
     "text": [
      "Number of uppercase letters: 2\n"
     ]
    }
   ],
   "source": [
    "# Input a string from the user\n",
    "input_string = input(\"Enter a string: \")\n",
    "\n",
    "# Initialize a counter for uppercase letters\n",
    "uppercase_count = 0\n",
    "\n",
    "# Iterate through each character in the string\n",
    "for char in input_string:\n",
    "    if char.isupper():\n",
    "        uppercase_count += 1\n",
    "\n",
    "print(\"Number of uppercase letters:\", uppercase_count)\n"
   ]
  },
  {
   "cell_type": "code",
   "execution_count": 13,
   "id": "c712b710-c7a1-4659-ac58-8771792b8255",
   "metadata": {},
   "outputs": [
    {
     "name": "stdin",
     "output_type": "stream",
     "text": [
      "Enter a string:  Hello World\n"
     ]
    },
    {
     "name": "stdout",
     "output_type": "stream",
     "text": [
      "Number of lowercase letters: 8\n"
     ]
    }
   ],
   "source": [
    "# Input a string from the user\n",
    "input_string = input(\"Enter a string: \")\n",
    "\n",
    "# Initialize a counter for lowercase letters\n",
    "lowercase_count = 0\n",
    "\n",
    "# Iterate through each character in the string\n",
    "for char in input_string:\n",
    "    if char.islower():\n",
    "        lowercase_count += 1\n",
    "\n",
    "print(\"Number of lowercase letters:\", lowercase_count)\n"
   ]
  },
  {
   "cell_type": "code",
   "execution_count": 14,
   "id": "45c3858f-69e7-4f61-ab90-c80deb508a23",
   "metadata": {},
   "outputs": [
    {
     "name": "stdin",
     "output_type": "stream",
     "text": [
      "Enter a string:  Hello World\n"
     ]
    },
    {
     "name": "stdout",
     "output_type": "stream",
     "text": [
      "String with swapped case: hELLO wORLD\n"
     ]
    }
   ],
   "source": [
    "# Input a string from the user\n",
    "input_string = input(\"Enter a string: \")\n",
    "\n",
    "# Swap the case of each character using the swapcase() method\n",
    "swapped_string = input_string.swapcase()\n",
    "\n",
    "print(\"String with swapped case:\", swapped_string)\n"
   ]
  },
  {
   "cell_type": "code",
   "execution_count": 15,
   "id": "8d08e493-9500-4fac-82ea-b3867930e127",
   "metadata": {},
   "outputs": [
    {
     "name": "stdin",
     "output_type": "stream",
     "text": [
      "Enter a string:  Hi, How are you?\n",
      "Enter the word to remove:  are\n"
     ]
    },
    {
     "name": "stdout",
     "output_type": "stream",
     "text": [
      "String with the word removed: Hi, How  you?\n"
     ]
    }
   ],
   "source": [
    "# Input a string from the user\n",
    "input_string = input(\"Enter a string: \")\n",
    "\n",
    "# Input the word to remove\n",
    "word_to_remove = input(\"Enter the word to remove: \")\n",
    "\n",
    "# Remove the specific word from the string using replace()\n",
    "modified_string = input_string.replace(word_to_remove, \"\")\n",
    "\n",
    "print(\"String with the word removed:\", modified_string)\n"
   ]
  },
  {
   "cell_type": "code",
   "execution_count": 16,
   "id": "f4fb8c33-1892-4aaa-9d37-ca7dcc2578d3",
   "metadata": {},
   "outputs": [
    {
     "name": "stdin",
     "output_type": "stream",
     "text": [
      "Enter an email address:  abc123@gmail.com\n"
     ]
    },
    {
     "name": "stdout",
     "output_type": "stream",
     "text": [
      "Valid email address.\n"
     ]
    }
   ],
   "source": [
    "import re\n",
    "\n",
    "# Input an email address from the user\n",
    "email_address = input(\"Enter an email address: \")\n",
    "\n",
    "# Define a regular expression pattern for a valid email address\n",
    "email_pattern = r\"^[a-zA-Z0-9._%+-]+@[a-zA-Z0-9.-]+\\.[a-zA-Z]{2,}$\"\n",
    "\n",
    "# Use re.match to check if the email address matches the pattern\n",
    "if re.match(email_pattern, email_address):\n",
    "    print(\"Valid email address.\")\n",
    "else:\n",
    "    print(\"Invalid email address.\")\n"
   ]
  },
  {
   "cell_type": "code",
   "execution_count": 1,
   "id": "5412d9ae-a988-4f2b-a39c-e847d37b5513",
   "metadata": {},
   "outputs": [
    {
     "name": "stdout",
     "output_type": "stream",
     "text": [
      "user\n"
     ]
    }
   ],
   "source": [
    "email = \"user@example.com\"\n",
    "username = email.split('@')[0]\n",
    "print(username)"
   ]
  },
  {
   "cell_type": "code",
   "execution_count": 2,
   "id": "44fc29bb-a581-4eb3-8406-9af559388a12",
   "metadata": {},
   "outputs": [
    {
     "name": "stdout",
     "output_type": "stream",
     "text": [
      "example.com\n"
     ]
    }
   ],
   "source": [
    "email = \"user@example.com\"\n",
    "domain = email.split('@')[1]\n",
    "print(domain)"
   ]
  },
  {
   "cell_type": "code",
   "execution_count": 3,
   "id": "f36a6e26-79ad-44a3-92d9-e2acdd715330",
   "metadata": {},
   "outputs": [
    {
     "name": "stdout",
     "output_type": "stream",
     "text": [
      "This is a sentence with multiple spaces.\n"
     ]
    }
   ],
   "source": [
    "text = \"This    is   a    sentence    with multiple    spaces.\"\n",
    "cleaned_text = ' '.join(text.split())\n",
    "print(cleaned_text)"
   ]
  },
  {
   "cell_type": "code",
   "execution_count": 4,
   "id": "53335221-ee7b-4927-9e63-a1397e717dc9",
   "metadata": {},
   "outputs": [
    {
     "name": "stdout",
     "output_type": "stream",
     "text": [
      "Valid URL\n"
     ]
    }
   ],
   "source": [
    "import re\n",
    "\n",
    "url = \"https://www.example.com\"\n",
    "if re.match(r'^https?://[A-Za-z0-9.-]+[.][A-Za-z]{2,4}', url):\n",
    "    print(\"Valid URL\")\n",
    "else:\n",
    "    print(\"Invalid URL\")"
   ]
  },
  {
   "cell_type": "code",
   "execution_count": 5,
   "id": "213a1cf7-022d-4f30-b116-d54e00b1c1d4",
   "metadata": {},
   "outputs": [
    {
     "name": "stdout",
     "output_type": "stream",
     "text": [
      "https\n"
     ]
    }
   ],
   "source": [
    "url = \"https://www.example.com\"\n",
    "protocol = url.split('://')[0]\n",
    "print(protocol)"
   ]
  },
  {
   "cell_type": "code",
   "execution_count": 6,
   "id": "e30b580e-7a73-42a0-9ae7-b400d871eefb",
   "metadata": {},
   "outputs": [
    {
     "name": "stdout",
     "output_type": "stream",
     "text": [
      "{'h': 1, 'e': 1, 'l': 2, 'o': 1}\n"
     ]
    }
   ],
   "source": [
    "text = \"hello\"\n",
    "char_frequency = {}\n",
    "for char in text:\n",
    "    char_frequency[char] = char_frequency.get(char, 0) + 1\n",
    "print(char_frequency)"
   ]
  },
  {
   "cell_type": "code",
   "execution_count": 7,
   "id": "f5bf35ff-38d8-4145-8e97-af6cfb9087be",
   "metadata": {},
   "outputs": [
    {
     "name": "stdout",
     "output_type": "stream",
     "text": [
      "Hello world\n"
     ]
    }
   ],
   "source": [
    "import string\n",
    "\n",
    "text = \"Hello, world!\"\n",
    "cleaned_text = text.translate(str.maketrans('', '', string.punctuation))\n",
    "print(cleaned_text)"
   ]
  },
  {
   "cell_type": "code",
   "execution_count": 8,
   "id": "b0cc5680-44f1-4df2-987f-2cb617e1138d",
   "metadata": {},
   "outputs": [
    {
     "name": "stdout",
     "output_type": "stream",
     "text": [
      "Contains only digits\n"
     ]
    }
   ],
   "source": [
    "text = \"12345\"\n",
    "if text.isdigit():\n",
    "    print(\"Contains only digits\")\n",
    "else:\n",
    "    print(\"Contains non-digit characters\")"
   ]
  },
  {
   "cell_type": "code",
   "execution_count": 9,
   "id": "c15f4735-facd-470c-8276-d6d216c5d8b6",
   "metadata": {},
   "outputs": [
    {
     "name": "stdout",
     "output_type": "stream",
     "text": [
      "Contains only alphabets\n"
     ]
    }
   ],
   "source": [
    "text = \"Hello\"\n",
    "if text.isalpha():\n",
    "    print(\"Contains only alphabets\")\n",
    "else:\n",
    "    print(\"Contains non-alphabet characters\")"
   ]
  },
  {
   "cell_type": "code",
   "execution_count": 10,
   "id": "f9e29d11-a420-4e89-a07c-23c7a723ce13",
   "metadata": {},
   "outputs": [
    {
     "name": "stdout",
     "output_type": "stream",
     "text": [
      "['h', 'e', 'l', 'l', 'o']\n"
     ]
    }
   ],
   "source": [
    "text = \"hello\"\n",
    "char_list = list(text)\n",
    "print(char_list)"
   ]
  },
  {
   "cell_type": "code",
   "execution_count": 11,
   "id": "4525e1d9-83f7-4454-9ce0-6bccd49bb7b8",
   "metadata": {},
   "outputs": [
    {
     "name": "stdout",
     "output_type": "stream",
     "text": [
      "Anagrams\n"
     ]
    }
   ],
   "source": [
    "str1 = \"listen\"\n",
    "str2 = \"silent\"\n",
    "if sorted(str1) == sorted(str2):\n",
    "    print(\"Anagrams\")\n",
    "else:\n",
    "    print(\"Not anagrams\")"
   ]
  },
  {
   "cell_type": "code",
   "execution_count": 12,
   "id": "6a36c3eb-430a-4c67-929c-6d7b5d0645dd",
   "metadata": {},
   "outputs": [
    {
     "name": "stdout",
     "output_type": "stream",
     "text": [
      "khoor\n"
     ]
    }
   ],
   "source": [
    "def caesar_cipher(text, shift):\n",
    "    result = ''\n",
    "    for char in text:\n",
    "        if char.isalpha():\n",
    "            ascii_offset = ord('a') if char.islower() else ord('A')\n",
    "            result += chr((ord(char) - ascii_offset + shift) % 26 + ascii_offset)\n",
    "        else:\n",
    "            result += char\n",
    "    return result\n",
    "\n",
    "text = \"hello\"\n",
    "shift = 3\n",
    "encoded_text = caesar_cipher(text, shift)\n",
    "print(encoded_text)"
   ]
  },
  {
   "cell_type": "code",
   "execution_count": 13,
   "id": "4c3eece2-dcfd-4314-a4ca-eea52cf4b92b",
   "metadata": {},
   "outputs": [
    {
     "name": "stdout",
     "output_type": "stream",
     "text": [
      "hello\n"
     ]
    }
   ],
   "source": [
    "def caesar_decipher(text, shift):\n",
    "    return caesar_cipher(text, -shift)\n",
    "\n",
    "encoded_text = \"khoor\"\n",
    "decoded_text = caesar_decipher(encoded_text, 3)\n",
    "print(decoded_text)"
   ]
  },
  {
   "cell_type": "code",
   "execution_count": 14,
   "id": "ee581947-a578-4bb9-8afb-2f4eacf05895",
   "metadata": {},
   "outputs": [
    {
     "name": "stdout",
     "output_type": "stream",
     "text": [
      "This\n"
     ]
    }
   ],
   "source": [
    "text = \"This is a test. This is only a test.\"\n",
    "words = text.split()\n",
    "word_frequency = {}\n",
    "for word in words:\n",
    "    word_frequency[word] = word_frequency.get(word, 0) + 1\n",
    "most_frequent_word = max(word_frequency, key=word_frequency.get)\n",
    "print(most_frequent_word)"
   ]
  },
  {
   "cell_type": "code",
   "execution_count": 15,
   "id": "54c28f45-e5fb-4014-a967-1d6eb522eb2e",
   "metadata": {},
   "outputs": [
    {
     "name": "stdout",
     "output_type": "stream",
     "text": [
      "{'test.', 'This', 'a', 'is', 'only'}\n"
     ]
    }
   ],
   "source": [
    "text = \"This is a test. This is only a test.\"\n",
    "words = set(text.split())\n",
    "print(words)"
   ]
  },
  {
   "cell_type": "code",
   "execution_count": 21,
   "id": "1cc4f1c1-fc62-46a6-8451-085c5e916907",
   "metadata": {},
   "outputs": [
    {
     "name": "stdout",
     "output_type": "stream",
     "text": [
      "Contains special characters\n"
     ]
    }
   ],
   "source": [
    "import re\n",
    "\n",
    "def contains_special_characters(text):\n",
    "    # Define a regular expression pattern for special characters\n",
    "    pattern = re.compile(r'[!@#$%^&*()_+{}\\[\\]:;<>,.?~\\\\|\\-]')\n",
    "\n",
    "    if pattern.search(text):\n",
    "        return True\n",
    "    else:\n",
    "        return False\n",
    "\n",
    "text = \"Hello, world!\"\n",
    "if contains_special_characters(text):\n",
    "    print(\"Contains special characters\")\n",
    "else:\n",
    "    print(\"Does not contain special characters\")"
   ]
  },
  {
   "cell_type": "code",
   "execution_count": 22,
   "id": "6a6e848a-eaaa-4b4b-8e16-6d8e4c68e721",
   "metadata": {},
   "outputs": [
    {
     "name": "stdout",
     "output_type": "stream",
     "text": [
      "This is sample sentence.\n"
     ]
    }
   ],
   "source": [
    "def remove_nth_word(text, n):\n",
    "    words = text.split()\n",
    "    if 1 <= n <= len(words):\n",
    "        del words[n - 1]\n",
    "        return ' '.join(words)\n",
    "    else:\n",
    "        return text\n",
    "\n",
    "text = \"This is a sample sentence.\"\n",
    "n = 3\n",
    "result = remove_nth_word(text, n)\n",
    "print(result)"
   ]
  },
  {
   "cell_type": "code",
   "execution_count": 23,
   "id": "5b98d592-952e-41bb-a090-46eadff99aa9",
   "metadata": {},
   "outputs": [
    {
     "name": "stdout",
     "output_type": "stream",
     "text": [
      "This is new a sentence.\n"
     ]
    }
   ],
   "source": [
    "def insert_word_at_nth_position(text, word, n):\n",
    "    words = text.split()\n",
    "    if 1 <= n <= len(words) + 1:\n",
    "        words.insert(n - 1, word)\n",
    "        return ' '.join(words)\n",
    "    else:\n",
    "        return text\n",
    "\n",
    "text = \"This is a sentence.\"\n",
    "word = \"new\"\n",
    "n = 3\n",
    "result = insert_word_at_nth_position(text, word, n)\n",
    "print(result)"
   ]
  },
  {
   "cell_type": "code",
   "execution_count": 24,
   "id": "84d26c4a-0dca-4f3a-a57c-a40901c60425",
   "metadata": {},
   "outputs": [
    {
     "name": "stdout",
     "output_type": "stream",
     "text": [
      "[['1', 'John', 'Smith'], ['2', 'Alice', 'Johnson'], ['3', 'Bob', 'Doe']]\n"
     ]
    }
   ],
   "source": [
    "import csv\n",
    "from io import StringIO\n",
    "\n",
    "csv_string = \"1,John,Smith\\n2,Alice,Johnson\\n3,Bob,Doe\"\n",
    "\n",
    "# Create a file-like object from the CSV string\n",
    "csv_file = StringIO(csv_string)\n",
    "\n",
    "# Use the csv.reader to parse the CSV data\n",
    "csv_reader = csv.reader(csv_file)\n",
    "\n",
    "# Convert the CSV data into a list of lists\n",
    "csv_data = [row for row in csv_reader]\n",
    "\n",
    "print(csv_data)"
   ]
  },
  {
   "cell_type": "code",
   "execution_count": 27,
   "id": "fc27cd5a-ab8d-4543-a401-3d8915205c8a",
   "metadata": {},
   "outputs": [
    {
     "name": "stdout",
     "output_type": "stream",
     "text": [
      "[1, 2, 3, 4, 5, 6, 7, 8, 9, 10]\n"
     ]
    }
   ],
   "source": [
    "my_list = list(range(1, 11))\n",
    "print(my_list)"
   ]
  },
  {
   "cell_type": "code",
   "execution_count": 30,
   "id": "16c832be-23a2-4c37-adb6-94ae8974b327",
   "metadata": {},
   "outputs": [
    {
     "name": "stdout",
     "output_type": "stream",
     "text": [
      "10\n"
     ]
    }
   ],
   "source": [
    "count = 0\n",
    "for _ in my_list:\n",
    "    count += 1\n",
    "print(count)"
   ]
  },
  {
   "cell_type": "code",
   "execution_count": 31,
   "id": "a2675d7a-90cc-4070-bb72-5c1a379abe77",
   "metadata": {},
   "outputs": [
    {
     "name": "stdout",
     "output_type": "stream",
     "text": [
      "[1, 2, 3, 4, 5, 6, 7, 8, 9, 10, 11]\n"
     ]
    }
   ],
   "source": [
    "my_list.append(11)\n",
    "print(my_list)"
   ]
  },
  {
   "cell_type": "code",
   "execution_count": 32,
   "id": "d0448ed6-1fd0-4357-b303-0c32bbaeffff",
   "metadata": {},
   "outputs": [
    {
     "name": "stdout",
     "output_type": "stream",
     "text": [
      "[1, 2, 99, 3, 4, 5, 6, 7, 8, 9, 10, 11]\n"
     ]
    }
   ],
   "source": [
    "my_list.insert(2, 99)\n",
    "print(my_list)"
   ]
  },
  {
   "cell_type": "code",
   "execution_count": 33,
   "id": "940f9d47-5311-4d8e-8c29-357681d3052d",
   "metadata": {},
   "outputs": [
    {
     "name": "stdout",
     "output_type": "stream",
     "text": [
      "[1, 2, 99, 3, 4, 6, 7, 8, 9, 10, 11]\n"
     ]
    }
   ],
   "source": [
    "my_list.remove(5)\n",
    "print(my_list)"
   ]
  },
  {
   "cell_type": "code",
   "execution_count": 34,
   "id": "5f27ed5b-4ed2-41eb-9151-a6129d92248f",
   "metadata": {},
   "outputs": [
    {
     "name": "stdout",
     "output_type": "stream",
     "text": [
      "[1, 2, 99, 4, 6, 7, 8, 9, 10, 11]\n"
     ]
    }
   ],
   "source": [
    "del my_list[3]\n",
    "print(my_list)"
   ]
  },
  {
   "cell_type": "code",
   "execution_count": 35,
   "id": "95325423-a83f-4346-9340-58e1ed7819be",
   "metadata": {},
   "outputs": [
    {
     "name": "stdout",
     "output_type": "stream",
     "text": [
      "7 exists in the list.\n"
     ]
    }
   ],
   "source": [
    "element = 7\n",
    "if element in my_list:\n",
    "    print(f\"{element} exists in the list.\")"
   ]
  },
  {
   "cell_type": "code",
   "execution_count": 37,
   "id": "734893c8-fdc2-4808-a7bd-b6e284b2dc4c",
   "metadata": {},
   "outputs": [
    {
     "name": "stdout",
     "output_type": "stream",
     "text": [
      "4\n"
     ]
    }
   ],
   "source": [
    "index = my_list.index(6)\n",
    "print(index)"
   ]
  },
  {
   "cell_type": "code",
   "execution_count": 38,
   "id": "b8eff92e-ee08-4733-88b2-36915f06e862",
   "metadata": {},
   "outputs": [
    {
     "name": "stdout",
     "output_type": "stream",
     "text": [
      "1\n"
     ]
    }
   ],
   "source": [
    "count = my_list.count(4)\n",
    "print(count)"
   ]
  },
  {
   "cell_type": "code",
   "execution_count": 44,
   "id": "c64a52c4-d985-4fe0-8f7f-7df0b8f7d7d8",
   "metadata": {},
   "outputs": [],
   "source": [
    "my_list = [1, 2, 3, 4, 5]\n",
    "my_list.reverse()"
   ]
  },
  {
   "cell_type": "code",
   "execution_count": 45,
   "id": "252486ca-cdfa-4be5-b690-32c4293341d6",
   "metadata": {},
   "outputs": [
    {
     "name": "stdout",
     "output_type": "stream",
     "text": [
      "[5, 4, 3, 2, 1]\n"
     ]
    }
   ],
   "source": [
    "print(my_list)"
   ]
  },
  {
   "cell_type": "code",
   "execution_count": 46,
   "id": "947d7c52-8a50-47d2-8774-9a2bb5d8fefc",
   "metadata": {},
   "outputs": [
    {
     "name": "stdout",
     "output_type": "stream",
     "text": [
      "[1, 1, 2, 3, 3, 4, 5, 5, 5, 6, 9]\n"
     ]
    }
   ],
   "source": [
    "my_list = [3, 1, 4, 1, 5, 9, 2, 6, 5, 3, 5]\n",
    "my_list.sort()\n",
    "print(my_list)"
   ]
  },
  {
   "cell_type": "code",
   "execution_count": 48,
   "id": "4a4c8ea5-0f84-4355-a4a9-1633262f4c42",
   "metadata": {},
   "outputs": [
    {
     "name": "stdout",
     "output_type": "stream",
     "text": [
      "[9, 6, 5, 5, 5, 4, 3, 3, 2, 1, 1]\n"
     ]
    }
   ],
   "source": [
    "my_list = [3, 1, 4, 1, 5, 9, 2, 6, 5, 3, 5]\n",
    "my_list.sort(reverse=True)\n",
    "print(my_list)"
   ]
  },
  {
   "cell_type": "code",
   "execution_count": 49,
   "id": "29770835-f17d-496d-b88b-6942170bf8e6",
   "metadata": {},
   "outputs": [
    {
     "name": "stdout",
     "output_type": "stream",
     "text": [
      "[2, 4, 6, 8, 10, 12, 14, 16, 18, 20]\n"
     ]
    }
   ],
   "source": [
    "even_numbers = [x for x in range(1, 21) if x % 2 == 0]\n",
    "print(even_numbers)"
   ]
  },
  {
   "cell_type": "code",
   "execution_count": 50,
   "id": "48bccf79-58e7-43b2-9b47-f997a6dc3878",
   "metadata": {},
   "outputs": [
    {
     "name": "stdout",
     "output_type": "stream",
     "text": [
      "[1, 3, 5, 7, 9, 11, 13, 15, 17, 19]\n"
     ]
    }
   ],
   "source": [
    "odd_numbers = [x for x in range(1, 21) if x % 2 != 0]\n",
    "print(odd_numbers)"
   ]
  },
  {
   "cell_type": "code",
   "execution_count": 51,
   "id": "91f14400-5106-4742-9865-3f810dc2aa56",
   "metadata": {},
   "outputs": [
    {
     "name": "stdout",
     "output_type": "stream",
     "text": [
      "15\n"
     ]
    }
   ],
   "source": [
    "my_list = [1, 2, 3, 4, 5]\n",
    "total = sum(my_list)\n",
    "print(total)"
   ]
  },
  {
   "cell_type": "code",
   "execution_count": 52,
   "id": "74c4d54d-124b-4863-bdc4-2a2509b27910",
   "metadata": {},
   "outputs": [
    {
     "name": "stdout",
     "output_type": "stream",
     "text": [
      "9\n"
     ]
    }
   ],
   "source": [
    "my_list = [3, 1, 4, 1, 5, 9, 2, 6, 5, 3, 5]\n",
    "max_value = max(my_list)\n",
    "print(max_value)"
   ]
  },
  {
   "cell_type": "code",
   "execution_count": 53,
   "id": "2cb756bd-7bff-4a9c-938d-961be0564ad5",
   "metadata": {},
   "outputs": [
    {
     "name": "stdout",
     "output_type": "stream",
     "text": [
      "1\n"
     ]
    }
   ],
   "source": [
    "my_list = [3, 1, 4, 1, 5, 9, 2, 6, 5, 3, 5]\n",
    "min_value = min(my_list)\n",
    "print(min_value)"
   ]
  },
  {
   "cell_type": "code",
   "execution_count": 54,
   "id": "ae0225d0-880a-49ca-8ba2-82e26ebcb9e4",
   "metadata": {},
   "outputs": [
    {
     "name": "stdout",
     "output_type": "stream",
     "text": [
      "[1, 4, 9, 16, 25, 36, 49, 64, 81, 100]\n"
     ]
    }
   ],
   "source": [
    "squares = [x ** 2 for x in range(1, 11)]\n",
    "print(squares)"
   ]
  },
  {
   "cell_type": "code",
   "execution_count": 55,
   "id": "416d5976-ebdd-4092-a291-17c9dbbd40ba",
   "metadata": {},
   "outputs": [
    {
     "name": "stdout",
     "output_type": "stream",
     "text": [
      "[22, 97, 50, 93, 13, 4, 38, 3, 79, 45]\n"
     ]
    }
   ],
   "source": [
    "import random\n",
    "\n",
    "random_numbers = [random.randint(1, 100) for _ in range(10)]\n",
    "print(random_numbers)"
   ]
  },
  {
   "cell_type": "code",
   "execution_count": 56,
   "id": "1fa7c437-fb26-481b-8cf6-e4798ecd0f24",
   "metadata": {},
   "outputs": [
    {
     "name": "stdout",
     "output_type": "stream",
     "text": [
      "[1, 2, 3, 4, 5]\n"
     ]
    }
   ],
   "source": [
    "my_list = [1, 2, 2, 3, 4, 4, 4, 5]\n",
    "unique_list = list(set(my_list))\n",
    "print(unique_list)"
   ]
  },
  {
   "cell_type": "code",
   "execution_count": null,
   "id": "588ed2c4-9382-4dcf-b06f-7fe5931806a2",
   "metadata": {},
   "outputs": [],
   "source": [
    "import pyphen\n",
    "\n",
    "text = \"syllable counting\"\n",
    "dic = pyphen.Pyphen(lang='en_US')\n",
    "syllables = sum([len(dic.inserted(word).split('-')) for word in text.split()])\n",
    "print(syllables)"
   ]
  },
  {
   "cell_type": "code",
   "execution_count": 2,
   "id": "e5af9e9b-9d28-41c3-87f6-34e5df6545bf",
   "metadata": {},
   "outputs": [
    {
     "name": "stdout",
     "output_type": "stream",
     "text": [
      "[3, 4, 5]\n"
     ]
    }
   ],
   "source": [
    "list1 = [1, 2, 3, 4, 5]\n",
    "list2 = [3, 4, 5, 6, 7]\n",
    "common_elements = list(set(list1) & set(list2))\n",
    "print(common_elements)"
   ]
  },
  {
   "cell_type": "code",
   "execution_count": 3,
   "id": "dbf897de-73d3-4058-b03a-403fe5bafdf2",
   "metadata": {},
   "outputs": [
    {
     "name": "stdout",
     "output_type": "stream",
     "text": [
      "[1, 2]\n"
     ]
    }
   ],
   "source": [
    "list1 = [1, 2, 3, 4, 5]\n",
    "list2 = [3, 4, 5, 6, 7]\n",
    "difference = list(set(list1) - set(list2))\n",
    "print(difference)"
   ]
  },
  {
   "cell_type": "code",
   "execution_count": 4,
   "id": "7ffdcaf8-a475-434c-a6e4-abd19c430828",
   "metadata": {},
   "outputs": [
    {
     "name": "stdout",
     "output_type": "stream",
     "text": [
      "[1, 2, 3, 4, 5, 6]\n"
     ]
    }
   ],
   "source": [
    "list1 = [1, 2, 3]\n",
    "list2 = [4, 5, 6]\n",
    "merged_list = list1 + list2\n",
    "print(merged_list)"
   ]
  },
  {
   "cell_type": "code",
   "execution_count": 5,
   "id": "5bc933da-92d6-4e44-ae4d-40854c1d2fb6",
   "metadata": {},
   "outputs": [
    {
     "name": "stdout",
     "output_type": "stream",
     "text": [
      "[2, 4, 6, 8, 10]\n"
     ]
    }
   ],
   "source": [
    "my_list = [1, 2, 3, 4, 5]\n",
    "doubled_list = [x * 2 for x in my_list]\n",
    "print(doubled_list)"
   ]
  },
  {
   "cell_type": "code",
   "execution_count": 6,
   "id": "e6134a7a-f98f-474a-a236-e16be9304e0a",
   "metadata": {},
   "outputs": [
    {
     "name": "stdout",
     "output_type": "stream",
     "text": [
      "[1, 3, 5]\n"
     ]
    }
   ],
   "source": [
    "my_list = [1, 2, 3, 4, 5, 6]\n",
    "filtered_list = [x for x in my_list if x % 2 != 0]\n",
    "print(filtered_list)"
   ]
  },
  {
   "cell_type": "code",
   "execution_count": 7,
   "id": "39be965b-d16d-4f78-b89d-759390be4b31",
   "metadata": {},
   "outputs": [
    {
     "name": "stdout",
     "output_type": "stream",
     "text": [
      "[1, 2, 3, 4]\n",
      "['1', '2', '3', '4']\n",
      "[1, 2, 3, 4, 5, 6]\n",
      "[0, 1, 1, 2, 3, 5, 8, 13, 21, 34]\n",
      "True\n",
      "[3, 4, 5, 1, 2]\n",
      "[4, 5, 1, 2, 3]\n"
     ]
    }
   ],
   "source": [
    "# 26. Convert a list of strings to a list of integers.\n",
    "str_list = [\"1\", \"2\", \"3\", \"4\"]\n",
    "int_list = [int(x) for x in str_list]\n",
    "print(int_list)\n",
    "\n",
    "# 27. Convert a list of integers to a list of strings.\n",
    "int_list = [1, 2, 3, 4]\n",
    "str_list = [str(x) for x in int_list]\n",
    "print(str_list)\n",
    "\n",
    "# 28. Flatten a nested list.\n",
    "nested_list = [[1, 2], [3, 4, 5], [6]]\n",
    "flattened_list = [item for sublist in nested_list for item in sublist]\n",
    "print(flattened_list)\n",
    "\n",
    "# 29. Create a list of the first 10 Fibonacci numbers.\n",
    "fibonacci = [0, 1]\n",
    "while len(fibonacci) < 10:\n",
    "    next_num = fibonacci[-1] + fibonacci[-2]\n",
    "    fibonacci.append(next_num)\n",
    "print(fibonacci)\n",
    "\n",
    "# 30. Check if a list is sorted.\n",
    "my_list = [1, 2, 3, 4, 5]\n",
    "is_sorted = my_list == sorted(my_list)\n",
    "print(is_sorted)\n",
    "\n",
    "# 31. Rotate a list to the left by `n` positions.\n",
    "my_list = [1, 2, 3, 4, 5]\n",
    "n = 2\n",
    "rotated_list = my_list[n:] + my_list[:n]\n",
    "print(rotated_list)\n",
    "\n",
    "# 32. Rotate a list to the right by `n` positions.\n",
    "my_list = [1, 2, 3, 4, 5]\n",
    "n = 2\n",
    "rotated_list = my_list[-n:] + my_list[:-n]\n",
    "print(rotated_list)"
   ]
  },
  {
   "cell_type": "code",
   "execution_count": 8,
   "id": "e6e31a23-20fe-4a6b-bebf-438e8461d5f4",
   "metadata": {},
   "outputs": [
    {
     "name": "stdout",
     "output_type": "stream",
     "text": [
      "[[1, 2, 3], [4, 5, 6], [7, 8, 9], [10]]\n",
      "6\n",
      "[1, 4, 9, 16, 25]\n",
      "{'apple': 0, 'banana': 1, 'cherry': 2}\n"
     ]
    }
   ],
   "source": [
    "# 34. Split a list into chunks of size `n`.\n",
    "my_list = [1, 2, 3, 4, 5, 6, 7, 8, 9, 10]\n",
    "n = 3\n",
    "chunks = [my_list[i:i+n] for i in range(0, len(my_list), n)]\n",
    "print(chunks)\n",
    "\n",
    "# 35. Find the second largest number in a list.\n",
    "my_list = [3, 1, 4, 1, 5, 9, 2, 6, 5, 3, 5]\n",
    "sorted_list = sorted(set(my_list))\n",
    "second_largest = sorted_list[-2]\n",
    "print(second_largest)\n",
    "\n",
    "# 36. Replace every element in a list with its square.\n",
    "my_list = [1, 2, 3, 4, 5]\n",
    "squared_list = [x ** 2 for x in my_list]\n",
    "print(squared_list)\n",
    "\n",
    "# 37. Convert a list to a dictionary where list elements become keys and their indices become values.\n",
    "my_list = [\"apple\", \"banana\", \"cherry\"]\n",
    "dictionary = {element: index for index, element in enumerate(my_list)}\n",
    "print(dictionary)"
   ]
  },
  {
   "cell_type": "code",
   "execution_count": 9,
   "id": "6a5d2983-113d-4af9-9c48-59c2bc168ea5",
   "metadata": {},
   "outputs": [
    {
     "name": "stdout",
     "output_type": "stream",
     "text": [
      "[2, 3, 5, 7, 11, 13, 17, 19, 23, 29, 31, 37, 41, 43, 47]\n"
     ]
    }
   ],
   "source": [
    "# Function to check if a number is prime\n",
    "def is_prime(num):\n",
    "    if num <= 1:\n",
    "        return False\n",
    "    if num <= 3:\n",
    "        return True\n",
    "    if num % 2 == 0 or num % 3 == 0:\n",
    "        return False\n",
    "    i = 5\n",
    "    while i * i <= num:\n",
    "        if num % i == 0 or num % (i + 2) == 0:\n",
    "            return False\n",
    "        i += 6\n",
    "    return True\n",
    "\n",
    "# Create a list of prime numbers up to 50\n",
    "prime_numbers = [num for num in range(2, 51) if is_prime(num)]\n",
    "\n",
    "# Print the list of prime numbers\n",
    "print(prime_numbers)\n"
   ]
  },
  {
   "cell_type": "code",
   "execution_count": 10,
   "id": "9aba067b-48d4-4fd3-a3c9-d24b9445bbf0",
   "metadata": {},
   "outputs": [
    {
     "name": "stdout",
     "output_type": "stream",
     "text": [
      "[1, 5, 2, 4, 3]\n",
      "[1, 1, 2, 6, 24, 120, 720, 5040, 40320, 362880]\n",
      "True\n",
      "[]\n",
      "[1, 0, 3, 0, 5]\n",
      "['This', 'is', 'a', 'sample', 'sentence']\n",
      "This is a list of words\n",
      "[1, 2, 4, 8, 16]\n",
      "banana\n",
      "fig\n",
      "[1, 3, 6, 10, 15]\n",
      "True\n",
      "[1, 4, 3, 2, 5]\n"
     ]
    }
   ],
   "source": [
    "# 38. Shuffle the elements of a list randomly.\n",
    "import random\n",
    "\n",
    "my_list = [1, 2, 3, 4, 5]\n",
    "random.shuffle(my_list)\n",
    "print(my_list)\n",
    "\n",
    "# 39. Create a list of the first 10 factorial numbers.\n",
    "import math\n",
    "\n",
    "factorial_numbers = [math.factorial(n) for n in range(10)]\n",
    "print(factorial_numbers)\n",
    "\n",
    "# 40. Check if two lists have at least one element in common.\n",
    "list1 = [1, 2, 3, 4, 5]\n",
    "list2 = [4, 5, 6, 7, 8]\n",
    "have_common_element = any(item in list1 for item in list2)\n",
    "print(have_common_element)\n",
    "\n",
    "# 41. Remove all elements from a list.\n",
    "my_list = [1, 2, 3, 4, 5]\n",
    "my_list.clear()\n",
    "print(my_list)\n",
    "\n",
    "# 42. Replace negative numbers in a list with 0.\n",
    "my_list = [1, -2, 3, -4, 5]\n",
    "my_list = [max(0, x) for x in my_list]\n",
    "print(my_list)\n",
    "\n",
    "# 43. Convert a string into a list of words.\n",
    "my_string = \"This is a sample sentence\"\n",
    "word_list = my_string.split()\n",
    "print(word_list)\n",
    "\n",
    "# 44. Convert a list of words into a string.\n",
    "word_list = [\"This\", \"is\", \"a\", \"list\", \"of\", \"words\"]\n",
    "my_string = \" \".join(word_list)\n",
    "print(my_string)\n",
    "\n",
    "# 45. Create a list of the first `n` powers of 2.\n",
    "n = 5\n",
    "powers_of_2 = [2 ** i for i in range(n)]\n",
    "print(powers_of_2)\n",
    "\n",
    "# 46. Find the longest string in a list of strings.\n",
    "string_list = [\"apple\", \"banana\", \"cherry\", \"date\", \"fig\"]\n",
    "longest_string = max(string_list, key=len)\n",
    "print(longest_string)\n",
    "\n",
    "# 47. Find the shortest string in a list of strings.\n",
    "string_list = [\"apple\", \"banana\", \"cherry\", \"date\", \"fig\"]\n",
    "shortest_string = min(string_list, key=len)\n",
    "print(shortest_string)\n",
    "\n",
    "# 48. Create a list of the first `n` triangular numbers.\n",
    "n = 5\n",
    "triangular_numbers = [(i * (i + 1)) // 2 for i in range(1, n + 1)]\n",
    "print(triangular_numbers)\n",
    "\n",
    "# 49. Check if a list contains another list as a subsequence.\n",
    "list1 = [1, 2, 3, 4, 5, 6, 7]\n",
    "list2 = [3, 5, 7]\n",
    "is_subsequence = all(item in list1 for item in list2)\n",
    "print(is_subsequence)\n",
    "\n",
    "# 50. Swap two elements in a list by their indices.\n",
    "my_list = [1, 2, 3, 4, 5]\n",
    "index1, index2 = 1, 3\n",
    "my_list[index1], my_list[index2] = my_list[index2], my_list[index1]\n",
    "print(my_list)\n"
   ]
  },
  {
   "cell_type": "code",
   "execution_count": 11,
   "id": "a8b77b2f-8301-43f3-aafb-b1903ebc62e7",
   "metadata": {},
   "outputs": [
    {
     "name": "stdout",
     "output_type": "stream",
     "text": [
      "(1, 2, 3, 4, 5)\n",
      "3\n",
      "5\n",
      "3\n",
      "1\n",
      "True\n",
      "[1, 2, 3, 4, 5]\n",
      "(1, 2, 3, 4, 5)\n",
      "1 2 3\n",
      "(2, 4, 6, 8, 10)\n"
     ]
    }
   ],
   "source": [
    "# 1. Create a tuple with integers from 1 to 5.\n",
    "my_tuple = (1, 2, 3, 4, 5)\n",
    "print(my_tuple)\n",
    "\n",
    "# 2. Access the third element of a tuple.\n",
    "my_tuple = (1, 2, 3, 4, 5)\n",
    "third_element = my_tuple[2]\n",
    "print(third_element)\n",
    "\n",
    "# 3. Find the length of a tuple without using the `len()` function.\n",
    "my_tuple = (1, 2, 3, 4, 5)\n",
    "length = sum(1 for _ in my_tuple)\n",
    "print(length)\n",
    "\n",
    "# 4. Count the occurrences of an element in a tuple.\n",
    "my_tuple = (1, 2, 3, 2, 4, 2, 5)\n",
    "count = my_tuple.count(2)\n",
    "print(count)\n",
    "\n",
    "# 5. Find the index of the first occurrence of an element in a tuple.\n",
    "my_tuple = (1, 2, 3, 2, 4, 2, 5)\n",
    "index = my_tuple.index(2)\n",
    "print(index)\n",
    "\n",
    "# 6. Check if an element exists in a tuple.\n",
    "my_tuple = (1, 2, 3, 4, 5)\n",
    "element = 3\n",
    "exists = element in my_tuple\n",
    "print(exists)\n",
    "\n",
    "# 7. Convert a tuple to a list.\n",
    "my_tuple = (1, 2, 3, 4, 5)\n",
    "my_list = list(my_tuple)\n",
    "print(my_list)\n",
    "\n",
    "# 8. Convert a list to a tuple.\n",
    "my_list = [1, 2, 3, 4, 5]\n",
    "my_tuple = tuple(my_list)\n",
    "print(my_tuple)\n",
    "\n",
    "# 9. Unpack the elements of a tuple into variables.\n",
    "my_tuple = (1, 2, 3)\n",
    "var1, var2, var3 = my_tuple\n",
    "print(var1, var2, var3)\n",
    "\n",
    "# 10. Create a tuple of even numbers from 1 to 10.\n",
    "even_numbers_tuple = tuple(range(2, 11, 2))\n",
    "print(even_numbers_tuple)\n"
   ]
  },
  {
   "cell_type": "code",
   "execution_count": 12,
   "id": "87909bef-9939-4ddd-9e73-80a607873345",
   "metadata": {},
   "outputs": [
    {
     "name": "stdout",
     "output_type": "stream",
     "text": [
      "(1, 3, 5, 7, 9)\n",
      "(1, 2, 3, 4, 5, 6)\n",
      "(1, 2, 3, 1, 2, 3, 1, 2, 3)\n",
      "True\n",
      "(1, (2, 3), 4)\n",
      "1\n",
      "(42,)\n",
      "False\n",
      "(2, 3, 4)\n"
     ]
    }
   ],
   "source": [
    "# 11. Create a tuple of odd numbers from 1 to 10.\n",
    "odd_numbers_tuple = tuple(range(1, 11, 2))\n",
    "print(odd_numbers_tuple)\n",
    "\n",
    "# 12. Concatenate two tuples.\n",
    "tuple1 = (1, 2, 3)\n",
    "tuple2 = (4, 5, 6)\n",
    "concatenated_tuple = tuple1 + tuple2\n",
    "print(concatenated_tuple)\n",
    "\n",
    "# 13. Repeat a tuple three times.\n",
    "original_tuple = (1, 2, 3)\n",
    "repeated_tuple = original_tuple * 3\n",
    "print(repeated_tuple)\n",
    "\n",
    "# 14. Check if a tuple is empty.\n",
    "empty_tuple = ()\n",
    "is_empty = not bool(empty_tuple)\n",
    "print(is_empty)\n",
    "\n",
    "# 15. Create a nested tuple.\n",
    "nested_tuple = (1, (2, 3), 4)\n",
    "print(nested_tuple)\n",
    "\n",
    "# 16. Access the first element of a nested tuple.\n",
    "nested_tuple = (1, (2, 3), 4)\n",
    "first_element = nested_tuple[0]\n",
    "print(first_element)\n",
    "\n",
    "# 17. Create a tuple with a single element.\n",
    "single_element_tuple = (42,)\n",
    "print(single_element_tuple)\n",
    "\n",
    "# 18. Compare two tuples.\n",
    "tuple1 = (1, 2, 3)\n",
    "tuple2 = (1, 2, 4)\n",
    "comparison_result = tuple1 == tuple2\n",
    "print(comparison_result)\n",
    "\n",
    "# 19. Delete a tuple. (Note: Tuples are immutable, so they cannot be deleted)\n",
    "my_tuple = (1, 2, 3)\n",
    "del my_tuple\n",
    "# Attempting to access my_tuple at this point will result in an error.\n",
    "\n",
    "# 20. Slice a tuple.\n",
    "my_tuple = (1, 2, 3, 4, 5)\n",
    "sliced_tuple = my_tuple[1:4]\n",
    "print(sliced_tuple)\n"
   ]
  },
  {
   "cell_type": "code",
   "execution_count": 14,
   "id": "f47a9998-3c92-426c-a4bd-3875a8579006",
   "metadata": {},
   "outputs": [
    {
     "name": "stdout",
     "output_type": "stream",
     "text": [
      "9\n",
      "1\n",
      "('h', 'e', 'l', 'l', 'o')\n",
      "hello\n",
      "(1, 'two', 3.0, [4, 5])\n",
      "True\n",
      "(1, 2, 5, 8, 9)\n",
      "('1', '2', '3', '4', '5')\n",
      "(1, 2, 3, 4, 5)\n",
      "(1, 2, 3, 4, 5, 6)\n"
     ]
    }
   ],
   "source": [
    "# 21. Find the maximum value in a tuple.\n",
    "my_tuple = (5, 2, 8, 1, 9)\n",
    "max_value = max(my_tuple)\n",
    "print(max_value)\n",
    "\n",
    "# 22. Find the minimum value in a tuple.\n",
    "my_tuple = (5, 2, 8, 1, 9)\n",
    "min_value = min(my_tuple)\n",
    "print(min_value)\n",
    "\n",
    "# 23. Convert a string to a tuple of characters.\n",
    "my_string = \"hello\"\n",
    "char_tuple = tuple(my_string)\n",
    "print(char_tuple)\n",
    "\n",
    "# 24. Convert a tuple of characters to a string.\n",
    "char_tuple = ('h', 'e', 'l', 'l', 'o')\n",
    "my_string = \"\".join(char_tuple)\n",
    "print(my_string)\n",
    "\n",
    "# 25. Create a tuple from multiple data types.\n",
    "mixed_tuple = (1, \"two\", 3.0, [4, 5])\n",
    "print(mixed_tuple)\n",
    "\n",
    "# 26. Check if two tuples are identical.\n",
    "tuple1 = (1, 2, 3)\n",
    "tuple2 = (1, 2, 3)\n",
    "are_identical = tuple1 == tuple2\n",
    "print(are_identical)\n",
    "\n",
    "# 27. Sort the elements of a tuple.\n",
    "my_tuple = (5, 2, 8, 1, 9)\n",
    "sorted_tuple = tuple(sorted(my_tuple))\n",
    "print(sorted_tuple)\n",
    "\n",
    "# 28. Convert a tuple of integers to a tuple of strings.\n",
    "int_tuple = (1, 2, 3, 4, 5)\n",
    "str_tuple = tuple(map(str, int_tuple))\n",
    "print(str_tuple)\n",
    "\n",
    "# 29. Convert a tuple of strings to a tuple of integers.\n",
    "str_tuple = (\"1\", \"2\", \"3\", \"4\", \"5\")\n",
    "int_tuple = tuple(map(int, str_tuple))\n",
    "print(int_tuple)\n",
    "\n",
    "# 30. Merge two tuples.\n",
    "tuple1 = (1, 2, 3)\n",
    "tuple2 = (4, 5, 6)\n",
    "merged_tuple = tuple1 + tuple2\n",
    "print(merged_tuple)\n"
   ]
  },
  {
   "cell_type": "code",
   "execution_count": 16,
   "id": "9bd5beb3-3bc8-4e69-8bc7-80bbdc6f8060",
   "metadata": {},
   "outputs": [
    {
     "name": "stdout",
     "output_type": "stream",
     "text": [
      "(2, 3, 5, 7, 11)\n",
      "True\n",
      "(1, 4, 9, 16, 25)\n",
      "(1, 3, 5, 7, 9)\n",
      "(2, 4, 6, 8, 10)\n",
      "(46, 2, 18, 77, 39)\n",
      "True\n",
      "(3, 4, 5, 1, 2)\n",
      "(4, 5, 1, 2, 3)\n"
     ]
    }
   ],
   "source": [
    "# 32. Create a tuple of the first 5 prime numbers.\n",
    "prime_numbers = (2, 3, 5, 7, 11)\n",
    "print(prime_numbers)\n",
    "\n",
    "# 33. Check if a tuple is a palindrome.\n",
    "palindrome_tuple = (1, 2, 3, 2, 1)\n",
    "is_palindrome = palindrome_tuple == palindrome_tuple[::-1]\n",
    "print(is_palindrome)\n",
    "\n",
    "# 34. Create a tuple of squares of numbers from 1 to 5.\n",
    "squares_tuple = tuple(i ** 2 for i in range(1, 6))\n",
    "print(squares_tuple)\n",
    "\n",
    "# 35. Filter out all even numbers from a tuple.\n",
    "original_tuple = (1, 2, 3, 4, 5, 6, 7, 8, 9, 10)\n",
    "filtered_tuple = tuple(x for x in original_tuple if x % 2 != 0)\n",
    "print(filtered_tuple)\n",
    "\n",
    "# 36. Multiply all elements in a tuple by 2.\n",
    "original_tuple = (1, 2, 3, 4, 5)\n",
    "doubled_tuple = tuple(x * 2 for x in original_tuple)\n",
    "print(doubled_tuple)\n",
    "\n",
    "# 37. Create a tuple of random numbers.\n",
    "import random\n",
    "\n",
    "random_numbers = tuple(random.randint(1, 100) for _ in range(5))\n",
    "print(random_numbers)\n",
    "\n",
    "# 38. Check if a tuple is sorted.\n",
    "sorted_tuple = (1, 2, 3, 4, 5)\n",
    "is_sorted = sorted_tuple == tuple(sorted(sorted_tuple))\n",
    "print(is_sorted)\n",
    "\n",
    "# 39. Rotate a tuple to the left by `n` positions.\n",
    "original_tuple = (1, 2, 3, 4, 5)\n",
    "n = 2\n",
    "rotated_tuple = original_tuple[n:] + original_tuple[:n]\n",
    "print(rotated_tuple)\n",
    "\n",
    "# 40. Rotate a tuple to the right by `n` positions.\n",
    "original_tuple = (1, 2, 3, 4, 5)\n",
    "n = 2\n",
    "rotated_tuple = original_tuple[-n:] + original_tuple[:-n]\n",
    "print(rotated_tuple)\n"
   ]
  },
  {
   "cell_type": "code",
   "execution_count": 18,
   "id": "e9fac874-b12f-4573-a0a6-911214a9fd23",
   "metadata": {},
   "outputs": [
    {
     "name": "stdout",
     "output_type": "stream",
     "text": [
      "(1, 2, 3, 4, 5, 6)\n"
     ]
    }
   ],
   "source": [
    "# 31. Flatten a nested tuple.\n",
    "def flatten_nested_tuple(nested):\n",
    "    flattened = []\n",
    "    for item in nested:\n",
    "        if isinstance(item, tuple):\n",
    "            flattened.extend(flatten_nested_tuple(item))\n",
    "        else:\n",
    "            flattened.append(item)\n",
    "    return flattened\n",
    "\n",
    "nested_tuple = ((1, 2), (3, (4, 5)), 6)\n",
    "flattened_tuple = tuple(flatten_nested_tuple(nested_tuple))\n",
    "print(flattened_tuple)"
   ]
  },
  {
   "cell_type": "code",
   "execution_count": 19,
   "id": "0d126357-082d-4ed1-a221-6b0580d6b050",
   "metadata": {},
   "outputs": [
    {
     "name": "stdout",
     "output_type": "stream",
     "text": [
      "(0, 1, 1, 2, 3)\n"
     ]
    },
    {
     "name": "stdin",
     "output_type": "stream",
     "text": [
      "Enter elements separated by spaces:  2 3 4 6 7 9\n"
     ]
    },
    {
     "name": "stdout",
     "output_type": "stream",
     "text": [
      "('2', '3', '4', '6', '7', '9')\n",
      "(1, 2, 5, 4, 3)\n",
      "(5, 4, 3, 2, 1)\n",
      "(2, 4, 8, 16, 32)\n",
      "banana\n",
      "date\n",
      "(1, 3, 6, 10, 15)\n",
      "True\n",
      "(1, 0, 1, 0, 1, 0, 1, 0)\n"
     ]
    }
   ],
   "source": [
    "# 41. Create a tuple of the first 5 Fibonacci numbers.\n",
    "def generate_fibonacci(n):\n",
    "    fibonacci = [0, 1]\n",
    "    while len(fibonacci) < n:\n",
    "        next_fib = fibonacci[-1] + fibonacci[-2]\n",
    "        fibonacci.append(next_fib)\n",
    "    return tuple(fibonacci)\n",
    "\n",
    "fibonacci_tuple = generate_fibonacci(5)\n",
    "print(fibonacci_tuple)\n",
    "\n",
    "# 42. Create a tuple from user input.\n",
    "user_input = input(\"Enter elements separated by spaces: \")\n",
    "user_tuple = tuple(user_input.split())\n",
    "print(user_tuple)\n",
    "\n",
    "# 43. Swap two elements in a tuple.\n",
    "my_tuple = (1, 2, 3, 4, 5)\n",
    "swap_indices = (2, 4)\n",
    "tuple_list = list(my_tuple)\n",
    "tuple_list[swap_indices[0]], tuple_list[swap_indices[1]] = tuple_list[swap_indices[1]], tuple_list[swap_indices[0]]\n",
    "swapped_tuple = tuple(tuple_list)\n",
    "print(swapped_tuple)\n",
    "\n",
    "# 44. Reverse the elements of a tuple.\n",
    "original_tuple = (1, 2, 3, 4, 5)\n",
    "reversed_tuple = original_tuple[::-1]\n",
    "print(reversed_tuple)\n",
    "\n",
    "# 45. Create a tuple of the first `n` powers of 2.\n",
    "n = 5\n",
    "powers_of_2 = tuple(2 ** i for i in range(1, n + 1))\n",
    "print(powers_of_2)\n",
    "\n",
    "# 46. Find the longest string in a tuple of strings.\n",
    "string_tuple = (\"apple\", \"banana\", \"cherry\", \"date\")\n",
    "longest_string = max(string_tuple, key=len)\n",
    "print(longest_string)\n",
    "\n",
    "# 47. Find the shortest string in a tuple of strings.\n",
    "string_tuple = (\"apple\", \"banana\", \"cherry\", \"date\")\n",
    "shortest_string = min(string_tuple, key=len)\n",
    "print(shortest_string)\n",
    "\n",
    "# 48. Create a tuple of the first `n` triangular numbers.\n",
    "n = 5\n",
    "triangular_numbers = tuple(i * (i + 1) // 2 for i in range(1, n + 1))\n",
    "print(triangular_numbers)\n",
    "\n",
    "# 49. Check if a tuple contains another tuple as a subsequence.\n",
    "big_tuple = (1, 2, (3, 4), 5)\n",
    "sub_tuple = (3, 4)\n",
    "contains_sub = sub_tuple in big_tuple\n",
    "print(contains_sub)\n",
    "\n",
    "# 50. Create a tuple of alternating 1s and 0s of length `n`.\n",
    "n = 8\n",
    "alternating_tuple = tuple(1 if i % 2 == 0 else 0 for i in range(n))\n",
    "print(alternating_tuple)\n"
   ]
  },
  {
   "cell_type": "code",
   "execution_count": 22,
   "id": "fbe5736e-243e-4a7b-8aff-c13636fe0a02",
   "metadata": {},
   "outputs": [
    {
     "name": "stdout",
     "output_type": "stream",
     "text": [
      "{1, 2, 3, 4, 5}\n",
      "{1, 2, 3, 4, 5, 6}\n",
      "{1, 2, 4, 5, 6}\n",
      "2 exists in the set.\n",
      "Length of the set: 5\n",
      "set()\n",
      "{2, 4, 6, 8, 10}\n",
      "{1, 3, 5, 7, 9}\n",
      "{1, 2, 3, 4, 5}\n",
      "{3}\n",
      "{1, 2}\n",
      "Is {1, 2} a subset of {1, 2, 3}? True\n",
      "Is {1, 2, 3, 4} a superset of {1, 2, 3}? True\n",
      "{1, 2, 3, 4, 5}\n",
      "[]\n",
      "Are {1, 2, 3} and {8, 6, 7} disjoint? True\n",
      "{1, 2, 4, 5}\n",
      "{1, 2, 3, 4, 5}\n"
     ]
    }
   ],
   "source": [
    "# 1. Create a set with integers from 1 to 5.\n",
    "my_set = {1, 2, 3, 4, 5}\n",
    "print(my_set)\n",
    "\n",
    "# 2. Add an element to a set.\n",
    "my_set.add(6)\n",
    "print(my_set)\n",
    "\n",
    "# 3. Remove an element from a set.\n",
    "my_set.remove(3)\n",
    "print(my_set)\n",
    "\n",
    "# 4. Check if an element exists in a set.\n",
    "element = 2\n",
    "if element in my_set:\n",
    "    print(f\"{element} exists in the set.\")\n",
    "else:\n",
    "    print(f\"{element} does not exist in the set.\")\n",
    "\n",
    "# 5. Find the length of a set without using the `len()` function.\n",
    "length = 0\n",
    "for _ in my_set:\n",
    "    length += 1\n",
    "print(f\"Length of the set: {length}\")\n",
    "\n",
    "# 6. Clear all elements from a set.\n",
    "my_set.clear()\n",
    "print(my_set)\n",
    "\n",
    "# 7. Create a set of even numbers from 1 to 10.\n",
    "even_numbers = set(range(2, 11, 2))\n",
    "print(even_numbers)\n",
    "\n",
    "# 8. Create a set of odd numbers from 1 to 10.\n",
    "odd_numbers = set(range(1, 11, 2))\n",
    "print(odd_numbers)\n",
    "\n",
    "# 9. Find the union of two sets.\n",
    "set1 = {1, 2, 3}\n",
    "set2 = {3, 4, 5}\n",
    "union_set = set1.union(set2)\n",
    "print(union_set)\n",
    "\n",
    "# 10. Find the intersection of two sets.\n",
    "intersection_set = set1.intersection(set2)\n",
    "print(intersection_set)\n",
    "\n",
    "# 11. Find the difference between two sets.\n",
    "difference_set = set1.difference(set2)\n",
    "print(difference_set)\n",
    "\n",
    "# 12. Check if a set is a subset of another set.\n",
    "subset = {1, 2}\n",
    "is_subset = subset.issubset(set1)\n",
    "print(f\"Is {subset} a subset of {set1}? {is_subset}\")\n",
    "\n",
    "# 13. Check if a set is a superset of another set.\n",
    "superset = {1, 2, 3, 4}\n",
    "is_superset = superset.issuperset(set1)\n",
    "print(f\"Is {superset} a superset of {set1}? {is_superset}\")\n",
    "\n",
    "# 14. Create a set from a list.\n",
    "my_list = [1, 2, 3, 4, 5]\n",
    "set_from_list = set(my_list)\n",
    "print(set_from_list)\n",
    "\n",
    "# 15. Convert a set to a list.\n",
    "list_from_set = list(my_set)\n",
    "print(list_from_set)\n",
    "\n",
    "# 18. Check if two sets have no elements in common.\n",
    "set3 = {6, 7, 8}\n",
    "no_common_elements = set1.isdisjoint(set3)\n",
    "print(f\"Are {set1} and {set3} disjoint? {no_common_elements}\")\n",
    "\n",
    "# 19. Find the symmetric difference between two sets.\n",
    "symmetric_difference = set1.symmetric_difference(set2)\n",
    "print(symmetric_difference)\n",
    "\n",
    "# 20. Update a set with elements from another set.\n",
    "set1.update(set2)\n",
    "print(set1)\n"
   ]
  },
  {
   "cell_type": "code",
   "execution_count": 26,
   "id": "6923ce5c-db6e-4a0f-b42d-c397bdbe5071",
   "metadata": {},
   "outputs": [
    {
     "name": "stdout",
     "output_type": "stream",
     "text": [
      "{1, 2, 3, 4}\n"
     ]
    }
   ],
   "source": [
    "# 16. Remove a random element from a set.\n",
    "my_set = {1, 2, 3, 4, 5}\n",
    "import random\n",
    "random_element = random.choice(tuple(my_set))\n",
    "my_set.remove(random_element)\n",
    "print(my_set)"
   ]
  },
  {
   "cell_type": "code",
   "execution_count": 27,
   "id": "7f6edd1c-d5cd-4910-94d3-1b68f44962d2",
   "metadata": {},
   "outputs": [
    {
     "name": "stdout",
     "output_type": "stream",
     "text": [
      "Popped element: 1\n"
     ]
    }
   ],
   "source": [
    "# 17. Pop an element from a set.\n",
    "popped_element = my_set.pop()\n",
    "print(f\"Popped element: {popped_element}\")"
   ]
  },
  {
   "cell_type": "code",
   "execution_count": 28,
   "id": "084584ed-9e01-4618-a837-2e77bf735d31",
   "metadata": {},
   "outputs": [
    {
     "name": "stdout",
     "output_type": "stream",
     "text": [
      "{2, 3, 5, 7, 11}\n",
      "Are the sets identical? True\n",
      "frozenset({1, 2, 3})\n",
      "Are the sets disjoint? True\n",
      "{1, 4, 9, 16, 25}\n",
      "{1, 3, 5}\n",
      "{2, 4, 6, 8, 10}\n",
      "{9, 10, 3, 5}\n",
      "Is the set empty? True\n",
      "{frozenset({3, 4}), frozenset({1, 2})}\n"
     ]
    }
   ],
   "source": [
    "# 21. Create a set of the first 5 prime numbers.\n",
    "prime_numbers = {2, 3, 5, 7, 11}\n",
    "print(prime_numbers)\n",
    "\n",
    "# 22. Check if two sets are identical.\n",
    "set1 = {1, 2, 3}\n",
    "set2 = {3, 2, 1}\n",
    "are_identical = set1 == set2\n",
    "print(f\"Are the sets identical? {are_identical}\")\n",
    "\n",
    "# 23. Create a frozen set.\n",
    "my_set = {1, 2, 3}\n",
    "frozen_set = frozenset(my_set)\n",
    "print(frozen_set)\n",
    "\n",
    "# 24. Check if a set is disjoint with another set.\n",
    "set1 = {1, 2, 3}\n",
    "set2 = {4, 5, 6}\n",
    "are_disjoint = set1.isdisjoint(set2)\n",
    "print(f\"Are the sets disjoint? {are_disjoint}\")\n",
    "\n",
    "# 25. Create a set of squares of numbers from 1 to 5.\n",
    "squares = {x**2 for x in range(1, 6)}\n",
    "print(squares)\n",
    "\n",
    "# 26. Filter out all even numbers from a set.\n",
    "my_set = {1, 2, 3, 4, 5, 6}\n",
    "filtered_set = {x for x in my_set if x % 2 != 0}\n",
    "print(filtered_set)\n",
    "\n",
    "# 27. Multiply all elements in a set by 2.\n",
    "my_set = {1, 2, 3, 4, 5}\n",
    "multiplied_set = {x * 2 for x in my_set}\n",
    "print(multiplied_set)\n",
    "\n",
    "# 28. Create a set of random numbers.\n",
    "import random\n",
    "random_set = {random.randint(1, 10) for _ in range(5)}\n",
    "print(random_set)\n",
    "\n",
    "# 29. Check if a set is empty.\n",
    "my_set = set()\n",
    "is_empty = not bool(my_set)\n",
    "print(f\"Is the set empty? {is_empty}\")\n",
    "\n",
    "# 30. Create a nested set.\n",
    "nested_set = {frozenset({1, 2}), frozenset({3, 4})}\n",
    "print(nested_set)"
   ]
  },
  {
   "cell_type": "code",
   "execution_count": 29,
   "id": "b5b707ab-0afc-4cb5-bae1-f069505cf713",
   "metadata": {},
   "outputs": [
    {
     "name": "stdout",
     "output_type": "stream",
     "text": [
      "{1, 2, 4, 5}\n",
      "Are the sets equal? False\n",
      "Is set1 a subset of set2? False\n",
      "Is set1 a superset of set2? False\n",
      "{'l', 'e', 'h', 'o'}\n",
      "{1, 2, 3, 4, 5}\n",
      "{'5', '2', '3', '1', '4'}\n",
      "{1, 2, 3, 4, 5}\n",
      "(1, 2, 3, 4, 5)\n",
      "Maximum value: 5\n",
      "Minimum value: 1\n"
     ]
    },
    {
     "name": "stdin",
     "output_type": "stream",
     "text": [
      "Enter a set of values separated by spaces:  5 9 8 3 2 1 4 7 6\n"
     ]
    },
    {
     "name": "stdout",
     "output_type": "stream",
     "text": [
      "{'5', '7', '2', '9', '3', '1', '6', '8', '4'}\n"
     ]
    }
   ],
   "source": [
    "# 31. Remove an element from a set using the discard method.\n",
    "my_set = {1, 2, 3, 4, 5}\n",
    "my_set.discard(3)\n",
    "print(my_set)\n",
    "\n",
    "# 32. Compare two sets.\n",
    "set1 = {1, 2, 3, 4}\n",
    "set2 = {3, 4, 5, 6}\n",
    "are_equal = set1 == set2\n",
    "is_subset = set1.issubset(set2)\n",
    "is_superset = set1.issuperset(set2)\n",
    "print(f\"Are the sets equal? {are_equal}\")\n",
    "print(f\"Is set1 a subset of set2? {is_subset}\")\n",
    "print(f\"Is set1 a superset of set2? {is_superset}\")\n",
    "\n",
    "# 33. Create a set from a string.\n",
    "my_string = \"hello\"\n",
    "char_set = set(my_string)\n",
    "print(char_set)\n",
    "\n",
    "# 34. Convert a set of strings to a set of integers.\n",
    "string_set = {\"1\", \"2\", \"3\", \"4\", \"5\"}\n",
    "int_set = {int(x) for x in string_set}\n",
    "print(int_set)\n",
    "\n",
    "# 35. Convert a set of integers to a set of strings.\n",
    "int_set = {1, 2, 3, 4, 5}\n",
    "string_set = {str(x) for x in int_set}\n",
    "print(string_set)\n",
    "\n",
    "# 36. Create a set from a tuple.\n",
    "my_tuple = (1, 2, 3, 4, 5)\n",
    "tuple_set = set(my_tuple)\n",
    "print(tuple_set)\n",
    "\n",
    "# 37. Convert a set to a tuple.\n",
    "my_set = {1, 2, 3, 4, 5}\n",
    "set_tuple = tuple(my_set)\n",
    "print(set_tuple)\n",
    "\n",
    "# 38. Find the maximum value in a set.\n",
    "my_set = {1, 2, 3, 4, 5}\n",
    "max_value = max(my_set)\n",
    "print(f\"Maximum value: {max_value}\")\n",
    "\n",
    "# 39. Find the minimum value in a set.\n",
    "my_set = {3, 1, 4, 2, 5}\n",
    "min_value = min(my_set)\n",
    "print(f\"Minimum value: {min_value}\")\n",
    "\n",
    "# 40. Create a set from user input.\n",
    "user_input = input(\"Enter a set of values separated by spaces: \")\n",
    "user_list = user_input.split()\n",
    "user_set = set(user_list)\n",
    "print(user_set)"
   ]
  },
  {
   "cell_type": "code",
   "execution_count": 30,
   "id": "ea23a871-57ac-45b9-84c9-8d42227f1055",
   "metadata": {},
   "outputs": [
    {
     "name": "stdout",
     "output_type": "stream",
     "text": [
      "Is the intersection empty? True\n",
      "{0, 1, 2, 3}\n",
      "[1, 2, 3, 4, 5]\n",
      "Do the sets have the same elements? True\n",
      "{1, 2, 4, 8, 16}\n",
      "{3, 4, 5}\n",
      "{1, 3, 6, 10, 15}\n",
      "Is set2 a subset of set1? True\n",
      "{0, 1}\n",
      "{1, 2, 3, 4, 5, 6, 7}\n"
     ]
    }
   ],
   "source": [
    "# 41. Check if the intersection of two sets is empty.\n",
    "set1 = {1, 2, 3}\n",
    "set2 = {4, 5, 6}\n",
    "is_empty_intersection = set1.isdisjoint(set2)\n",
    "print(f\"Is the intersection empty? {is_empty_intersection}\")\n",
    "\n",
    "# 42. Create a set of the first 5 Fibonacci numbers.\n",
    "fibonacci_set = {0, 1, 1, 2, 3}\n",
    "print(fibonacci_set)\n",
    "\n",
    "# 43. Remove duplicates from a list using sets.\n",
    "my_list = [1, 2, 2, 3, 4, 4, 5]\n",
    "unique_set = set(my_list)\n",
    "no_duplicates_list = list(unique_set)\n",
    "print(no_duplicates_list)\n",
    "\n",
    "# 44. Check if two sets have the same elements, regardless of their count.\n",
    "set1 = {1, 2, 3, 4}\n",
    "set2 = {4, 3, 2, 1, 2, 3, 4}\n",
    "have_same_elements = set1 == set2\n",
    "print(f\"Do the sets have the same elements? {have_same_elements}\")\n",
    "\n",
    "# 45. Create a set of the first `n` powers of 2.\n",
    "n = 5\n",
    "powers_of_2 = {2**i for i in range(n)}\n",
    "print(powers_of_2)\n",
    "\n",
    "# 46. Find the common elements between a set and a list.\n",
    "my_set = {1, 2, 3, 4, 5}\n",
    "my_list = [3, 4, 5, 6, 7]\n",
    "common_elements = my_set.intersection(my_list)\n",
    "print(common_elements)\n",
    "\n",
    "# 47. Create a set of the first `n` triangular numbers.\n",
    "n = 5\n",
    "triangular_numbers = {i * (i + 1) // 2 for i in range(1, n + 1)}\n",
    "print(triangular_numbers)\n",
    "\n",
    "# 48. Check if a set contains another set as a subset.\n",
    "set1 = {1, 2, 3, 4, 5}\n",
    "set2 = {2, 3, 4}\n",
    "is_subset = set2.issubset(set1)\n",
    "print(f\"Is set2 a subset of set1? {is_subset}\")\n",
    "\n",
    "# 49. Create a set of alternating 1s and 0s of length `n`.\n",
    "n = 8\n",
    "alternating_set = {i % 2 for i in range(n)}\n",
    "print(alternating_set)\n",
    "\n",
    "# 50. Merge multiple sets into one.\n",
    "set1 = {1, 2, 3}\n",
    "set2 = {3, 4, 5}\n",
    "set3 = {5, 6, 7}\n",
    "merged_set = set1.union(set2, set3)\n",
    "print(merged_set)"
   ]
  },
  {
   "cell_type": "code",
   "execution_count": null,
   "id": "39c25c40-335a-4355-a932-7f7505a5a123",
   "metadata": {},
   "outputs": [],
   "source": []
  }
 ],
 "metadata": {
  "kernelspec": {
   "display_name": "Python 3 (ipykernel)",
   "language": "python",
   "name": "python3"
  },
  "language_info": {
   "codemirror_mode": {
    "name": "ipython",
    "version": 3
   },
   "file_extension": ".py",
   "mimetype": "text/x-python",
   "name": "python",
   "nbconvert_exporter": "python",
   "pygments_lexer": "ipython3",
   "version": "3.10.8"
  }
 },
 "nbformat": 4,
 "nbformat_minor": 5
}

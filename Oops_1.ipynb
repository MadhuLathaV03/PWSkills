{
 "cells": [
  {
   "cell_type": "code",
   "execution_count": 1,
   "id": "cdd87c22-86e1-4912-84b4-7028cf74c53c",
   "metadata": {},
   "outputs": [
    {
     "name": "stdout",
     "output_type": "stream",
     "text": [
      "Remaining balance: 1200\n"
     ]
    }
   ],
   "source": [
    "class BankAccount:\n",
    "    def __init__(self, account_number, account_holder, balance):\n",
    "        self.account_number = account_number\n",
    "        self.account_holder = account_holder\n",
    "        self.balance = balance\n",
    "\n",
    "    def deposit(self, amount):\n",
    "        if amount > 0:\n",
    "            self.balance += amount\n",
    "\n",
    "    def withdraw(self, amount):\n",
    "        if amount > 0 and self.balance >= amount:\n",
    "            self.balance -= amount\n",
    "            return amount\n",
    "\n",
    "    def get_balance(self):\n",
    "        return self.balance\n",
    "\n",
    "# Usage:\n",
    "account = BankAccount(\"12345\", \"Alice\", 1000)\n",
    "account.deposit(500)\n",
    "withdrawn = account.withdraw(300)\n",
    "print(\"Remaining balance:\", account.get_balance())\n"
   ]
  },
  {
   "cell_type": "code",
   "execution_count": 2,
   "id": "6ba1cbdf-3885-4b2c-b184-cd20da2cf355",
   "metadata": {},
   "outputs": [
    {
     "name": "stdout",
     "output_type": "stream",
     "text": [
      "Employee ID: 101\n",
      "Name: Bob\n",
      "Salary: $50000.00\n",
      "Yearly Bonus: $5000.00\n"
     ]
    }
   ],
   "source": [
    "class Employee:\n",
    "    def __init__(self, employee_id, name, salary):\n",
    "        self.employee_id = employee_id\n",
    "        self.name = name\n",
    "        self.salary = salary\n",
    "\n",
    "    def calculate_yearly_bonus(self, bonus_percentage):\n",
    "        return (bonus_percentage / 100) * self.salary\n",
    "\n",
    "    def display_employee_details(self):\n",
    "        print(f\"Employee ID: {self.employee_id}\")\n",
    "        print(f\"Name: {self.name}\")\n",
    "        print(f\"Salary: ${self.salary:.2f}\")\n",
    "\n",
    "# Usage:\n",
    "employee = Employee(101, \"Bob\", 50000)\n",
    "bonus = employee.calculate_yearly_bonus(10)\n",
    "employee.display_employee_details()\n",
    "print(f\"Yearly Bonus: ${bonus:.2f}\")\n"
   ]
  },
  {
   "cell_type": "code",
   "execution_count": 3,
   "id": "a949de04-7ba7-4aac-8b37-1ea4d1d78a30",
   "metadata": {},
   "outputs": [
    {
     "name": "stdout",
     "output_type": "stream",
     "text": [
      "Vehicle rented successfully.\n",
      "Available Vehicles:\n",
      "Car\n",
      "Scooter\n"
     ]
    }
   ],
   "source": [
    "class VehicleRental:\n",
    "    def __init__(self):\n",
    "        self.available_vehicles = []\n",
    "\n",
    "    def rent_vehicle(self, vehicle):\n",
    "        if vehicle in self.available_vehicles:\n",
    "            self.available_vehicles.remove(vehicle)\n",
    "            return \"Vehicle rented successfully.\"\n",
    "        return \"Vehicle not available.\"\n",
    "\n",
    "    def return_vehicle(self, vehicle):\n",
    "        self.available_vehicles.append(vehicle)\n",
    "\n",
    "    def display_available_vehicles(self):\n",
    "        print(\"Available Vehicles:\")\n",
    "        for vehicle in self.available_vehicles:\n",
    "            print(vehicle)\n",
    "\n",
    "# Usage:\n",
    "rental_system = VehicleRental()\n",
    "rental_system.available_vehicles = [\"Car\", \"Bike\", \"Scooter\"]\n",
    "print(rental_system.rent_vehicle(\"Bike\"))\n",
    "rental_system.display_available_vehicles()"
   ]
  },
  {
   "cell_type": "code",
   "execution_count": 4,
   "id": "19e118dc-371c-4a15-afa4-1fdfe1682d6f",
   "metadata": {},
   "outputs": [
    {
     "name": "stdout",
     "output_type": "stream",
     "text": [
      "Book borrowed successfully.\n",
      "Available Books:\n",
      "Data Science Handbook by Alice Johnson\n"
     ]
    }
   ],
   "source": [
    "class Book:\n",
    "    def __init__(self, title, author):\n",
    "        self.title = title\n",
    "        self.author = author\n",
    "\n",
    "class LibraryCatalog:\n",
    "    def __init__(self):\n",
    "        self.available_books = []\n",
    "\n",
    "    def add_book(self, book):\n",
    "        self.available_books.append(book)\n",
    "\n",
    "    def borrow_book(self, title):\n",
    "        for book in self.available_books:\n",
    "            if book.title == title:\n",
    "                self.available_books.remove(book)\n",
    "                return \"Book borrowed successfully.\"\n",
    "        return \"Book not available.\"\n",
    "\n",
    "    def display_available_books(self):\n",
    "        print(\"Available Books:\")\n",
    "        for book in self.available_books:\n",
    "            print(f\"{book.title} by {book.author}\")\n",
    "\n",
    "# Usage:\n",
    "library = LibraryCatalog()\n",
    "book1 = Book(\"Python Basics\", \"John Smith\")\n",
    "book2 = Book(\"Data Science Handbook\", \"Alice Johnson\")\n",
    "library.add_book(book1)\n",
    "library.add_book(book2)\n",
    "print(library.borrow_book(\"Python Basics\"))\n",
    "library.display_available_books()\n"
   ]
  },
  {
   "cell_type": "code",
   "execution_count": 5,
   "id": "1e781226-f553-4cc5-ad76-70a4e015a36d",
   "metadata": {},
   "outputs": [
    {
     "name": "stdout",
     "output_type": "stream",
     "text": [
      "Quantity updated for Laptop.\n",
      "Available Products:\n",
      "Laptop (ID: 101) - Price: $800.00, Quantity: 5\n",
      "Phone (ID: 102) - Price: $400.00, Quantity: 20\n"
     ]
    }
   ],
   "source": [
    "class Product:\n",
    "    def __init__(self, product_id, name, price, quantity):\n",
    "        self.product_id = product_id\n",
    "        self.name = name\n",
    "        self.price = price\n",
    "        self.quantity = quantity\n",
    "\n",
    "class Inventory:\n",
    "    def __init__(self):\n",
    "        self.products = []\n",
    "\n",
    "    def add_product(self, product):\n",
    "        self.products.append(product)\n",
    "\n",
    "    def update_quantity(self, product_id, new_quantity):\n",
    "        for product in self.products:\n",
    "            if product.product_id == product_id:\n",
    "                product.quantity = new_quantity\n",
    "                return f\"Quantity updated for {product.name}.\"\n",
    "\n",
    "    def display_available_products(self):\n",
    "        print(\"Available Products:\")\n",
    "        for product in self.products:\n",
    "            print(f\"{product.name} (ID: {product.product_id}) - Price: ${product.price:.2f}, Quantity: {product.quantity}\")\n",
    "\n",
    "# Usage:\n",
    "inventory_system = Inventory()\n",
    "product1 = Product(101, \"Laptop\", 800, 10)\n",
    "product2 = Product(102, \"Phone\", 400, 20)\n",
    "inventory_system.add_product(product1)\n",
    "inventory_system.add_product(product2)\n",
    "print(inventory_system.update_quantity(101, 5))\n",
    "inventory_system.display_available_products()\n"
   ]
  },
  {
   "cell_type": "code",
   "execution_count": 8,
   "id": "d98780e8-2239-4c97-ad24-099275e51a02",
   "metadata": {},
   "outputs": [
    {
     "name": "stdout",
     "output_type": "stream",
     "text": [
      "Rectangle Area: 15\n",
      "Triangle Perimeter: 10\n"
     ]
    }
   ],
   "source": [
    "class Shape:\n",
    "    def __init__(self, length, width, height):\n",
    "        self.length = length\n",
    "        self.width = width\n",
    "        self.height = height\n",
    "        self.base = width\n",
    "\n",
    "    def calculate_area(self):\n",
    "        pass\n",
    "\n",
    "    def calculate_perimeter(self):\n",
    "        pass\n",
    "\n",
    "class Rectangle(Shape):\n",
    "    def calculate_area(self):\n",
    "        return self.length * self.width\n",
    "\n",
    "    def calculate_perimeter(self):\n",
    "        return 2 * (self.length + self.width)\n",
    "\n",
    "class Triangle(Shape):\n",
    "    def calculate_area(self):\n",
    "        return 0.5 * self.base * self.height\n",
    "\n",
    "    def calculate_perimeter(self):\n",
    "        return self.length + self.base + self.height\n",
    "\n",
    "# Usage:\n",
    "rectangle = Rectangle(5, 3, 0)\n",
    "triangle = Triangle(0, 4, 6)\n",
    "print(\"Rectangle Area:\", rectangle.calculate_area())\n",
    "print(\"Triangle Perimeter:\", triangle.calculate_perimeter())\n"
   ]
  },
  {
   "cell_type": "code",
   "execution_count": 9,
   "id": "f13e2721-32c0-4b0b-932a-61caccfe37a8",
   "metadata": {},
   "outputs": [
    {
     "name": "stdout",
     "output_type": "stream",
     "text": [
      "Student ID: 123\n",
      "Name: Alice\n",
      "Grades: 85, 92, 78, 95, 89\n",
      "Average Grade: 87.80\n"
     ]
    }
   ],
   "source": [
    "class Student:\n",
    "    def __init__(self, student_id, name, grades):\n",
    "        self.student_id = student_id\n",
    "        self.name = name\n",
    "        self.grades = grades\n",
    "\n",
    "    def calculate_average_grade(self):\n",
    "        return sum(self.grades) / len(self.grades)\n",
    "\n",
    "    def display_student_details(self):\n",
    "        print(f\"Student ID: {self.student_id}\")\n",
    "        print(f\"Name: {self.name}\")\n",
    "        print(f\"Grades: {', '.join(map(str, self.grades))}\")\n",
    "\n",
    "# Usage:\n",
    "student = Student(123, \"Alice\", [85, 92, 78, 95, 89])\n",
    "average_grade = student.calculate_average_grade()\n",
    "student.display_student_details()\n",
    "print(f\"Average Grade: {average_grade:.2f}\")\n"
   ]
  },
  {
   "cell_type": "code",
   "execution_count": 10,
   "id": "5e1f50d2-e120-4090-bfc9-c00e3932f95d",
   "metadata": {},
   "outputs": [
    {
     "name": "stdout",
     "output_type": "stream",
     "text": [
      "Email sent successfully.\n",
      "Sender: user@example.com\n",
      "Recipient: recipient@example.com\n",
      "Subject: Hello\n",
      "Message: This is a test email.\n"
     ]
    }
   ],
   "source": [
    "class Email:\n",
    "    def __init__(self, sender, recipient, subject, message):\n",
    "        self.sender = sender\n",
    "        self.recipient = recipient\n",
    "        self.subject = subject\n",
    "        self.message = message\n",
    "\n",
    "    def send_email(self):\n",
    "        print(\"Email sent successfully.\")\n",
    "\n",
    "    def display_email_details(self):\n",
    "        print(f\"Sender: {self.sender}\")\n",
    "        print(f\"Recipient: {self.recipient}\")\n",
    "        print(f\"Subject: {self.subject}\")\n",
    "        print(f\"Message: {self.message}\")\n",
    "\n",
    "# Usage:\n",
    "email = Email(\"user@example.com\", \"recipient@example.com\", \"Hello\", \"This is a test email.\")\n",
    "email.send_email()\n",
    "email.display_email_details()\n"
   ]
  },
  {
   "cell_type": "code",
   "execution_count": 11,
   "id": "f3cfa684-a081-4566-853c-021d9dd24be3",
   "metadata": {},
   "outputs": [
    {
     "name": "stdout",
     "output_type": "stream",
     "text": [
      "Posts:\n",
      "Good morning!\n",
      "Lunch time!\n",
      "Feeling great!\n",
      "Posts containing 'great':\n",
      "Feeling great!\n"
     ]
    }
   ],
   "source": [
    "class SocialMediaProfile:\n",
    "    def __init__(self, username):\n",
    "        self.username = username\n",
    "        self.posts = []\n",
    "\n",
    "    def add_post(self, post):\n",
    "        self.posts.append(post)\n",
    "\n",
    "    def display_posts(self):\n",
    "        print(\"Posts:\")\n",
    "        for post in self.posts:\n",
    "            print(post)\n",
    "\n",
    "    def search_posts(self, keyword):\n",
    "        matching_posts = [post for post in self.posts if keyword in post]\n",
    "        if matching_posts:\n",
    "            print(f\"Posts containing '{keyword}':\")\n",
    "            for post in matching_posts:\n",
    "                print(post)\n",
    "        else:\n",
    "            print(f\"No posts containing '{keyword}' found.\")\n",
    "\n",
    "# Usage:\n",
    "profile = SocialMediaProfile(\"user123\")\n",
    "profile.add_post(\"Good morning!\")\n",
    "profile.add_post(\"Lunch time!\")\n",
    "profile.add_post(\"Feeling great!\")\n",
    "profile.display_posts()\n",
    "profile.search_posts(\"great\")\n"
   ]
  },
  {
   "cell_type": "code",
   "execution_count": 12,
   "id": "3accd126-1432-4926-bea7-5ed7e1aaab09",
   "metadata": {},
   "outputs": [
    {
     "name": "stdout",
     "output_type": "stream",
     "text": [
      "Task marked as completed.\n",
      "Pending Tasks:\n",
      "Finish report\n"
     ]
    }
   ],
   "source": [
    "class ToDoList:\n",
    "    def __init__(self):\n",
    "        self.tasks = []\n",
    "\n",
    "    def add_task(self, task):\n",
    "        self.tasks.append(task)\n",
    "\n",
    "    def mark_task_completed(self, task):\n",
    "        if task in self.tasks:\n",
    "            self.tasks.remove(task)\n",
    "            return \"Task marked as completed.\"\n",
    "        return \"Task not found.\"\n",
    "\n",
    "    def display_pending_tasks(self):\n",
    "        print(\"Pending Tasks:\")\n",
    "        for task in self.tasks:\n",
    "            print(task)\n",
    "\n",
    "# Usage:\n",
    "todo_list = ToDoList()\n",
    "todo_list.add_task(\"Buy groceries\")\n",
    "todo_list.add_task(\"Finish report\")\n",
    "print(todo_list.mark_task_completed(\"Buy groceries\"))\n",
    "todo_list.display_pending_tasks()\n"
   ]
  },
  {
   "cell_type": "code",
   "execution_count": null,
   "id": "d71ac079-1c91-438b-8c05-804337bdd7af",
   "metadata": {},
   "outputs": [],
   "source": []
  }
 ],
 "metadata": {
  "kernelspec": {
   "display_name": "Python 3 (ipykernel)",
   "language": "python",
   "name": "python3"
  },
  "language_info": {
   "codemirror_mode": {
    "name": "ipython",
    "version": 3
   },
   "file_extension": ".py",
   "mimetype": "text/x-python",
   "name": "python",
   "nbconvert_exporter": "python",
   "pygments_lexer": "ipython3",
   "version": "3.10.8"
  }
 },
 "nbformat": 4,
 "nbformat_minor": 5
}

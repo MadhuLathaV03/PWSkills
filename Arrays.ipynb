{
 "cells": [
  {
   "cell_type": "code",
   "execution_count": 1,
   "id": "eceb9a33-cfcb-4e57-93dd-f7ce46164c0a",
   "metadata": {},
   "outputs": [
    {
     "name": "stdout",
     "output_type": "stream",
     "text": [
      "True\n"
     ]
    }
   ],
   "source": [
    "arr = [1, 2, 4, 2, 5, 9]\n",
    "output = len(arr) != len(set(arr))\n",
    "print(output)  # Output: True"
   ]
  },
  {
   "cell_type": "code",
   "execution_count": 2,
   "id": "b9e4b3d8-63ba-42d0-bbe4-7f4951042a01",
   "metadata": {},
   "outputs": [
    {
     "name": "stdout",
     "output_type": "stream",
     "text": [
      "[5, 6, 7, 1, 2, 3, 4]\n"
     ]
    }
   ],
   "source": [
    "arr = [1, 2, 3, 4, 5, 6, 7]\n",
    "k = 3\n",
    "n = len(arr)\n",
    "arr[:] = arr[n - k:] + arr[:n - k]\n",
    "print(arr)  # Output: [5, 6, 7, 1, 2, 3, 4]"
   ]
  },
  {
   "cell_type": "code",
   "execution_count": null,
   "id": "34a7caaf-2349-43c2-b2f0-726034c67f56",
   "metadata": {},
   "outputs": [],
   "source": []
  }
 ],
 "metadata": {
  "kernelspec": {
   "display_name": "Python 3 (ipykernel)",
   "language": "python",
   "name": "python3"
  },
  "language_info": {
   "codemirror_mode": {
    "name": "ipython",
    "version": 3
   },
   "file_extension": ".py",
   "mimetype": "text/x-python",
   "name": "python",
   "nbconvert_exporter": "python",
   "pygments_lexer": "ipython3",
   "version": "3.10.8"
  }
 },
 "nbformat": 4,
 "nbformat_minor": 5
}

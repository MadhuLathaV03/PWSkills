{
 "cells": [
  {
   "cell_type": "code",
   "execution_count": 1,
   "id": "6d192b46-8167-4786-acd8-26cbc0631c1b",
   "metadata": {},
   "outputs": [
    {
     "name": "stdout",
     "output_type": "stream",
     "text": [
      "1\n",
      "2\n",
      "3\n",
      "4\n",
      "5\n",
      "6\n",
      "7\n",
      "8\n",
      "9\n",
      "10\n"
     ]
    }
   ],
   "source": [
    "# 1. Print numbers from 1 to 10 using a for loop.\n",
    "for num in range(1, 11):\n",
    "    print(num)"
   ]
  },
  {
   "cell_type": "code",
   "execution_count": null,
   "id": "8d2801d3-daca-4ffc-b7c9-ce13945a2011",
   "metadata": {},
   "outputs": [],
   "source": [
    "# 2. Difference between a for loop and a while loop in Python:\n",
    "\n",
    "# A for loop is used when you have a sequence (like a list, tuple, or range) and you want to iterate over each element of that sequence.\n",
    "# A while loop is used when you want to repeat a block of code as long as a certain condition is met."
   ]
  },
  {
   "cell_type": "code",
   "execution_count": 2,
   "id": "9373f00e-d2f9-4f2f-9845-add349e2ab26",
   "metadata": {},
   "outputs": [
    {
     "name": "stdout",
     "output_type": "stream",
     "text": [
      "Sum: 5050\n"
     ]
    }
   ],
   "source": [
    "# 3. Calculate the sum of all numbers from 1 to 100 using a for loop.\n",
    "total_sum = 0\n",
    "for num in range(1, 101):\n",
    "    total_sum += num\n",
    "print(\"Sum:\", total_sum)"
   ]
  },
  {
   "cell_type": "code",
   "execution_count": 3,
   "id": "d9dc2af7-cbf3-496f-87a0-ffbf3b8d9391",
   "metadata": {},
   "outputs": [
    {
     "name": "stdout",
     "output_type": "stream",
     "text": [
      "1\n",
      "2\n",
      "3\n",
      "4\n",
      "5\n"
     ]
    }
   ],
   "source": [
    "# 4. Iterate through a list using a for loop in Python.\n",
    "my_list = [1, 2, 3, 4, 5]\n",
    "for item in my_list:\n",
    "    print(item)"
   ]
  },
  {
   "cell_type": "code",
   "execution_count": 4,
   "id": "d72b6c2b-d881-4d4d-b8a6-d6fb952b4303",
   "metadata": {},
   "outputs": [
    {
     "name": "stdout",
     "output_type": "stream",
     "text": [
      "Product: 120\n"
     ]
    }
   ],
   "source": [
    "# 5. Find the product of all elements in a list using a for loop.\n",
    "my_list = [1, 2, 3, 4, 5]\n",
    "product = 1\n",
    "for item in my_list:\n",
    "    product *= item\n",
    "print(\"Product:\", product)"
   ]
  },
  {
   "cell_type": "code",
   "execution_count": 5,
   "id": "f05529e7-5d33-4c56-b3a4-5fbd20a50a88",
   "metadata": {},
   "outputs": [
    {
     "name": "stdout",
     "output_type": "stream",
     "text": [
      "2\n",
      "4\n",
      "6\n",
      "8\n",
      "10\n",
      "12\n",
      "14\n",
      "16\n",
      "18\n",
      "20\n"
     ]
    }
   ],
   "source": [
    "# 6. Print all even numbers from 1 to 20 using a for loop.\n",
    "for num in range(2, 21, 2):\n",
    "    print(num)"
   ]
  },
  {
   "cell_type": "code",
   "execution_count": 6,
   "id": "47073875-d187-4966-a470-2bc7af91847e",
   "metadata": {},
   "outputs": [
    {
     "name": "stdout",
     "output_type": "stream",
     "text": [
      "Factorial: 120\n"
     ]
    }
   ],
   "source": [
    "# 7. Calculate the factorial of a number using a for loop.\n",
    "n = 5\n",
    "factorial = 1\n",
    "for i in range(1, n + 1):\n",
    "    factorial *= i\n",
    "print(\"Factorial:\", factorial)"
   ]
  },
  {
   "cell_type": "code",
   "execution_count": 7,
   "id": "7a828bb5-a8a3-48dc-a17c-241dbf94dd85",
   "metadata": {},
   "outputs": [
    {
     "name": "stdout",
     "output_type": "stream",
     "text": [
      "H\n",
      "e\n",
      "l\n",
      "l\n",
      "o\n"
     ]
    }
   ],
   "source": [
    "# 8. Iterate through the characters of a string using a for loop in Python.\n",
    "my_string = \"Hello\"\n",
    "for char in my_string:\n",
    "    print(char)"
   ]
  },
  {
   "cell_type": "code",
   "execution_count": 8,
   "id": "da9a0bda-9d23-4431-b59d-9a7accb5846d",
   "metadata": {},
   "outputs": [
    {
     "name": "stdout",
     "output_type": "stream",
     "text": [
      "Largest: 5\n"
     ]
    }
   ],
   "source": [
    "# 9. Find the largest number in a list using a for loop.\n",
    "my_list = [3, 1, 4, 2, 5]\n",
    "largest = my_list[0]\n",
    "for item in my_list:\n",
    "    if item > largest:\n",
    "        largest = item\n",
    "print(\"Largest:\", largest)"
   ]
  },
  {
   "cell_type": "code",
   "execution_count": 9,
   "id": "18fb2116-1391-4d28-8b1f-aab44ab5885e",
   "metadata": {},
   "outputs": [
    {
     "name": "stdout",
     "output_type": "stream",
     "text": [
      "0\n",
      "1\n",
      "1\n",
      "2\n",
      "3\n",
      "5\n",
      "8\n",
      "13\n",
      "21\n",
      "34\n"
     ]
    }
   ],
   "source": [
    "# 10. Print the Fibonacci sequence up to a specified limit using a for loop.\n",
    "limit = 10\n",
    "a, b = 0, 1\n",
    "for _ in range(limit):\n",
    "    print(a)\n",
    "    a, b = b, a + b"
   ]
  },
  {
   "cell_type": "code",
   "execution_count": 10,
   "id": "d9f324b8-20cf-4427-ba8c-356377f74b20",
   "metadata": {},
   "outputs": [
    {
     "name": "stdout",
     "output_type": "stream",
     "text": [
      "Number of vowels: 3\n"
     ]
    }
   ],
   "source": [
    "# 11. Count the number of vowels in a given string using a for loop.\n",
    "input_string = \"Hello, World\"\n",
    "vowels = \"AEIOUaeiou\"\n",
    "count = 0\n",
    "for char in input_string:\n",
    "    if char in vowels:\n",
    "        count += 1\n",
    "print(\"Number of vowels:\", count)"
   ]
  },
  {
   "cell_type": "code",
   "execution_count": 11,
   "id": "41c0bcdd-cb63-477a-ad6f-cd505d78b2e2",
   "metadata": {},
   "outputs": [
    {
     "name": "stdout",
     "output_type": "stream",
     "text": [
      "7 x 1 = 7\n",
      "7 x 2 = 14\n",
      "7 x 3 = 21\n",
      "7 x 4 = 28\n",
      "7 x 5 = 35\n",
      "7 x 6 = 42\n",
      "7 x 7 = 49\n",
      "7 x 8 = 56\n",
      "7 x 9 = 63\n",
      "7 x 10 = 70\n"
     ]
    }
   ],
   "source": [
    "# 12. Generate a multiplication table for a given number using a for loop.\n",
    "number = 7\n",
    "for i in range(1, 11):\n",
    "    print(f\"{number} x {i} = {number * i}\")"
   ]
  },
  {
   "cell_type": "code",
   "execution_count": 12,
   "id": "8eb74c2c-4af9-4eec-a9e9-f5c7351952d0",
   "metadata": {},
   "outputs": [
    {
     "name": "stdout",
     "output_type": "stream",
     "text": [
      "Reversed List: [5, 4, 3, 2, 1]\n"
     ]
    }
   ],
   "source": [
    "# 13. Reverse a list using a for loop.\n",
    "my_list = [1, 2, 3, 4, 5]\n",
    "reversed_list = []\n",
    "for item in my_list:\n",
    "    reversed_list.insert(0, item)\n",
    "print(\"Reversed List:\", reversed_list)"
   ]
  },
  {
   "cell_type": "code",
   "execution_count": 13,
   "id": "39bac7f0-7f6e-4d7c-bd56-2e26d2f02ad0",
   "metadata": {},
   "outputs": [
    {
     "name": "stdout",
     "output_type": "stream",
     "text": [
      "Common Elements: [3, 4, 5]\n"
     ]
    }
   ],
   "source": [
    "# 14. Find common elements between two lists using a for loop.\n",
    "list1 = [1, 2, 3, 4, 5]\n",
    "list2 = [3, 4, 5, 6, 7]\n",
    "common_elements = []\n",
    "for item in list1:\n",
    "    if item in list2:\n",
    "        common_elements.append(item)\n",
    "print(\"Common Elements:\", common_elements)"
   ]
  },
  {
   "cell_type": "code",
   "execution_count": 14,
   "id": "17e45850-3bd9-4791-a6b0-3a46b51fadf4",
   "metadata": {},
   "outputs": [
    {
     "name": "stdout",
     "output_type": "stream",
     "text": [
      "Key: apple, Value: 3\n",
      "Key: banana, Value: 5\n",
      "Key: cherry, Value: 2\n"
     ]
    }
   ],
   "source": [
    "# 15. Iterate through the keys and values of a dictionary using a for loop.\n",
    "my_dict = {\"apple\": 3, \"banana\": 5, \"cherry\": 2}\n",
    "for key, value in my_dict.items():\n",
    "    print(f\"Key: {key}, Value: {value}\")"
   ]
  },
  {
   "cell_type": "code",
   "execution_count": 15,
   "id": "0c31208e-018c-4d00-988d-a2f09ab5cfbe",
   "metadata": {},
   "outputs": [
    {
     "name": "stdout",
     "output_type": "stream",
     "text": [
      "GCD: 6\n"
     ]
    }
   ],
   "source": [
    "# 16. Find the GCD (Greatest Common Divisor) of two numbers using a for loop.\n",
    "def find_gcd(a, b):\n",
    "    while b:\n",
    "        a, b = b, a % b\n",
    "    return a\n",
    "\n",
    "num1 = 48\n",
    "num2 = 18\n",
    "gcd = find_gcd(num1, num2)\n",
    "print(\"GCD:\", gcd)"
   ]
  },
  {
   "cell_type": "code",
   "execution_count": 16,
   "id": "bbeadfea-e88b-49c7-b85d-85c9c60c56b1",
   "metadata": {},
   "outputs": [
    {
     "name": "stdout",
     "output_type": "stream",
     "text": [
      "Is Palindrome: True\n"
     ]
    }
   ],
   "source": [
    "# 17. Check if a string is a palindrome using a for loop.\n",
    "input_string = \"racecar\"\n",
    "is_palindrome = True\n",
    "for i in range(len(input_string) // 2):\n",
    "    if input_string[i] != input_string[-i - 1]:\n",
    "        is_palindrome = False\n",
    "        break\n",
    "print(\"Is Palindrome:\", is_palindrome)"
   ]
  },
  {
   "cell_type": "code",
   "execution_count": 17,
   "id": "b987e3e6-b253-45d2-9125-aa02bcb4b554",
   "metadata": {},
   "outputs": [
    {
     "name": "stdout",
     "output_type": "stream",
     "text": [
      "List with Duplicates Removed: [1, 2, 3, 4, 5]\n"
     ]
    }
   ],
   "source": [
    "# 18. Remove duplicates from a list using sets with a for loop.\n",
    "my_list = [1, 2, 2, 3, 4, 4, 5]\n",
    "unique_list = []\n",
    "for item in my_list:\n",
    "    if item not in unique_list:\n",
    "        unique_list.append(item)\n",
    "print(\"List with Duplicates Removed:\", unique_list)"
   ]
  },
  {
   "cell_type": "code",
   "execution_count": 18,
   "id": "5ba5efbe-3e2c-4640-95a6-e6d082c46681",
   "metadata": {},
   "outputs": [
    {
     "name": "stdout",
     "output_type": "stream",
     "text": [
      "Number of Words: 8\n"
     ]
    }
   ],
   "source": [
    "# 19. Count the number of words in a sentence using a for loop.\n",
    "sentence = \"This is a sample sentence with several words.\"\n",
    "words = sentence.split()\n",
    "word_count = 0\n",
    "for word in words:\n",
    "    word_count += 1\n",
    "print(\"Number of Words:\", word_count)"
   ]
  },
  {
   "cell_type": "code",
   "execution_count": 19,
   "id": "5d91b0d2-c468-45f0-8c39-da3515886fd1",
   "metadata": {},
   "outputs": [
    {
     "name": "stdout",
     "output_type": "stream",
     "text": [
      "Sum of Odd Numbers: 625\n"
     ]
    }
   ],
   "source": [
    "# 20. Find the sum of all odd numbers from 1 to 50 using a for loop.\n",
    "total_sum = 0\n",
    "for num in range(1, 51, 2):\n",
    "    total_sum += num\n",
    "print(\"Sum of Odd Numbers:\", total_sum)"
   ]
  },
  {
   "cell_type": "code",
   "execution_count": 20,
   "id": "3ae7ecf3-d820-464d-b723-2a62ad62c2ee",
   "metadata": {},
   "outputs": [
    {
     "name": "stdout",
     "output_type": "stream",
     "text": [
      "2024 is a leap year.\n"
     ]
    }
   ],
   "source": [
    "# 21. Check if a given year is a leap year using a for loop.\n",
    "def is_leap_year(year):\n",
    "    if (year % 4 == 0 and year % 100 != 0) or (year % 400 == 0):\n",
    "        return True\n",
    "    return False\n",
    "\n",
    "year = 2024\n",
    "if is_leap_year(year):\n",
    "    print(f\"{year} is a leap year.\")\n",
    "else:\n",
    "    print(f\"{year} is not a leap year.\")"
   ]
  },
  {
   "cell_type": "code",
   "execution_count": 21,
   "id": "47e2229d-b4b9-48b2-a0a5-0b5d7700c2d6",
   "metadata": {},
   "outputs": [
    {
     "name": "stdout",
     "output_type": "stream",
     "text": [
      "Square Root: 5.0\n"
     ]
    }
   ],
   "source": [
    "# 22. Calculate the square root of a number using a for loop.\n",
    "number = 25\n",
    "guess = number / 2\n",
    "for _ in range(10):  # Iterate 10 times for better approximation\n",
    "    guess = (guess + number / guess) / 2\n",
    "print(\"Square Root:\", guess)"
   ]
  },
  {
   "cell_type": "code",
   "execution_count": 24,
   "id": "5002d625-1804-4386-9873-327da8ab0d28",
   "metadata": {},
   "outputs": [
    {
     "name": "stdout",
     "output_type": "stream",
     "text": [
      "LCM: 588\n"
     ]
    }
   ],
   "source": [
    "# 23. Find the LCM (Least Common Multiple) of two numbers using a for loop.\n",
    "def find_lcm(a, b):\n",
    "    larger = max(a, b)\n",
    "    while True:\n",
    "        if larger % a == 0 and larger % b == 0:\n",
    "            return larger\n",
    "        larger += 1\n",
    "\n",
    "num1 = 12\n",
    "num2 = 18\n",
    "lcm = find_lcm(num1, num)\n",
    "print(\"LCM:\", lcm)"
   ]
  },
  {
   "cell_type": "code",
   "execution_count": 25,
   "id": "54aeccd6-acd2-4333-9cae-7f04f1788dc6",
   "metadata": {},
   "outputs": [
    {
     "name": "stdout",
     "output_type": "stream",
     "text": [
      "Positive\n"
     ]
    }
   ],
   "source": [
    "# 1. Check if a number is positive, negative, or zero using an if-else statement.\n",
    "number = 7\n",
    "if number > 0:\n",
    "    print(\"Positive\")\n",
    "elif number < 0:\n",
    "    print(\"Negative\")\n",
    "else:\n",
    "    print(\"Zero\")"
   ]
  },
  {
   "cell_type": "code",
   "execution_count": 26,
   "id": "ca550d01-4318-4b87-8c36-ca68c45633cb",
   "metadata": {},
   "outputs": [
    {
     "name": "stdout",
     "output_type": "stream",
     "text": [
      "Even\n"
     ]
    }
   ],
   "source": [
    "# 2. Check if a given number is even or odd using an if-else statement.\n",
    "number = 10\n",
    "if number % 2 == 0:\n",
    "    print(\"Even\")\n",
    "else:\n",
    "    print(\"Odd\")"
   ]
  },
  {
   "cell_type": "code",
   "execution_count": 27,
   "id": "6ef3fc1d-9a32-4305-adb9-2bce2d1f9389",
   "metadata": {},
   "outputs": [
    {
     "name": "stdout",
     "output_type": "stream",
     "text": [
      "Positive and Odd\n"
     ]
    }
   ],
   "source": [
    "# 3. Use nested if-else statements (example: classify a number as positive/negative and even/odd).\n",
    "number = 5\n",
    "if number > 0:\n",
    "    if number % 2 == 0:\n",
    "        print(\"Positive and Even\")\n",
    "    else:\n",
    "        print(\"Positive and Odd\")\n",
    "else:\n",
    "    if number % 2 == 0:\n",
    "        print(\"Negative and Even\")\n",
    "    else:\n",
    "        print(\"Negative and Odd\")"
   ]
  },
  {
   "cell_type": "code",
   "execution_count": 28,
   "id": "dab75105-07c4-41e1-bb15-d3701699fe15",
   "metadata": {},
   "outputs": [
    {
     "name": "stdout",
     "output_type": "stream",
     "text": [
      "Largest number: 15\n"
     ]
    }
   ],
   "source": [
    "# 4. Determine the largest of three numbers using if-else.\n",
    "a, b, c = 10, 15, 5\n",
    "if a >= b and a >= c:\n",
    "    largest = a\n",
    "elif b >= a and b >= c:\n",
    "    largest = b\n",
    "else:\n",
    "    largest = c\n",
    "print(\"Largest number:\", largest)"
   ]
  },
  {
   "cell_type": "code",
   "execution_count": 29,
   "id": "90aa0d0b-ca7d-40f8-9d8a-e81cc5e2b1f1",
   "metadata": {},
   "outputs": [
    {
     "name": "stdout",
     "output_type": "stream",
     "text": [
      "Absolute Value: 7\n"
     ]
    }
   ],
   "source": [
    "# 5. Calculate the absolute value of a number using if-else.\n",
    "number = -7\n",
    "if number < 0:\n",
    "    absolute_value = -number\n",
    "else:\n",
    "    absolute_value = number\n",
    "print(\"Absolute Value:\", absolute_value)"
   ]
  },
  {
   "cell_type": "code",
   "execution_count": 30,
   "id": "4a2a0c24-bbf2-4b1d-ad70-32e95d41482f",
   "metadata": {},
   "outputs": [
    {
     "name": "stdout",
     "output_type": "stream",
     "text": [
      "Vowel\n"
     ]
    }
   ],
   "source": [
    "# 6. Check if a given character is a vowel or consonant using if-else.\n",
    "character = 'a'\n",
    "if character in 'AEIOUaeiou':\n",
    "    print(\"Vowel\")\n",
    "else:\n",
    "    print(\"Consonant\")"
   ]
  },
  {
   "cell_type": "code",
   "execution_count": 31,
   "id": "4d6cb635-de3e-4c03-a598-52f14da55a42",
   "metadata": {},
   "outputs": [
    {
     "name": "stdout",
     "output_type": "stream",
     "text": [
      "Eligible to vote\n"
     ]
    }
   ],
   "source": [
    "# 7. Determine if a user is eligible to vote based on their age using if-else.\n",
    "age = 18\n",
    "if age >= 18:\n",
    "    print(\"Eligible to vote\")\n",
    "else:\n",
    "    print(\"Not eligible to vote\")"
   ]
  },
  {
   "cell_type": "code",
   "execution_count": 32,
   "id": "ad70d080-f1a1-4572-b1d1-982f46a479f2",
   "metadata": {},
   "outputs": [
    {
     "name": "stdout",
     "output_type": "stream",
     "text": [
      "Discount: 5\n"
     ]
    }
   ],
   "source": [
    "# 8. Calculate the discount amount based on the purchase amount using if-else.\n",
    "purchase_amount = 100\n",
    "discount = 0\n",
    "if purchase_amount > 100:\n",
    "    discount = 10\n",
    "elif purchase_amount > 50:\n",
    "    discount = 5\n",
    "print(\"Discount:\", discount)"
   ]
  },
  {
   "cell_type": "code",
   "execution_count": 33,
   "id": "0b8c7fc0-1a7c-4e83-8663-b5ac6a908260",
   "metadata": {},
   "outputs": [
    {
     "name": "stdout",
     "output_type": "stream",
     "text": [
      "Number is within the range\n"
     ]
    }
   ],
   "source": [
    "# 9. Check if a number is within a specified range using if-else.\n",
    "number = 25\n",
    "lower_limit = 10\n",
    "upper_limit = 30\n",
    "if lower_limit <= number <= upper_limit:\n",
    "    print(\"Number is within the range\")\n",
    "else:\n",
    "    print(\"Number is outside the range\")"
   ]
  },
  {
   "cell_type": "code",
   "execution_count": 34,
   "id": "7a825707-262f-4fbd-9448-511900af7d03",
   "metadata": {},
   "outputs": [
    {
     "name": "stdout",
     "output_type": "stream",
     "text": [
      "Grade: B\n"
     ]
    }
   ],
   "source": [
    "# 10. Determine the grade of a student based on their score using if-else.\n",
    "score = 85\n",
    "if score >= 90:\n",
    "    grade = \"A\"\n",
    "elif score >= 80:\n",
    "    grade = \"B\"\n",
    "elif score >= 70:\n",
    "    grade = \"C\"\n",
    "elif score >= 60:\n",
    "    grade = \"D\"\n",
    "else:\n",
    "    grade = \"F\"\n",
    "print(\"Grade:\", grade)"
   ]
  },
  {
   "cell_type": "code",
   "execution_count": 35,
   "id": "6506ea44-1875-4725-93cc-98db0cfb4ac4",
   "metadata": {},
   "outputs": [
    {
     "name": "stdout",
     "output_type": "stream",
     "text": [
      "String is not empty\n"
     ]
    }
   ],
   "source": [
    "# 11. Check if a string is empty or not using if-else.\n",
    "my_string = \"Hello, World!\"\n",
    "if not my_string:\n",
    "    print(\"String is empty\")\n",
    "else:\n",
    "    print(\"String is not empty\")"
   ]
  },
  {
   "cell_type": "code",
   "execution_count": 36,
   "id": "1057dc44-1519-474a-998f-e9e877aee1d6",
   "metadata": {},
   "outputs": [
    {
     "name": "stdout",
     "output_type": "stream",
     "text": [
      "Triangle is Scalene\n"
     ]
    }
   ],
   "source": [
    "# 12. Identify the type of a triangle (e.g., equilateral, isosceles, or scalene) based on input values using if-else.\n",
    "side1 = 3\n",
    "side2 = 4\n",
    "side3 = 5\n",
    "if side1 == side2 == side3:\n",
    "    triangle_type = \"Equilateral\"\n",
    "elif side1 == side2 or side1 == side3 or side2 == side3:\n",
    "    triangle_type = \"Isosceles\"\n",
    "else:\n",
    "    triangle_type = \"Scalene\"\n",
    "print(\"Triangle is\", triangle_type)"
   ]
  },
  {
   "cell_type": "code",
   "execution_count": 37,
   "id": "715e546b-ff4a-4d55-9514-7156b1acf8c9",
   "metadata": {},
   "outputs": [
    {
     "name": "stdout",
     "output_type": "stream",
     "text": [
      "Day of the week: Monday\n"
     ]
    }
   ],
   "source": [
    "# 13. Determine the day of the week based on a user-provided number using if-else.\n",
    "day_number = 2\n",
    "if day_number == 1:\n",
    "    day = \"Sunday\"\n",
    "elif day_number == 2:\n",
    "    day = \"Monday\"\n",
    "elif day_number == 3:\n",
    "    day = \"Tuesday\"\n",
    "elif day_number == 4:\n",
    "    day = \"Wednesday\"\n",
    "elif day_number == 5:\n",
    "    day = \"Thursday\"\n",
    "elif day_number == 6:\n",
    "    day = \"Friday\"\n",
    "elif day_number == 7:\n",
    "    day = \"Saturday\"\n",
    "else:\n",
    "    day = \"Invalid day number\"\n",
    "print(\"Day of the week:\", day)"
   ]
  },
  {
   "cell_type": "code",
   "execution_count": 38,
   "id": "7914b908-035d-49eb-9ca4-3676397d4af2",
   "metadata": {},
   "outputs": [
    {
     "name": "stdout",
     "output_type": "stream",
     "text": [
      "2024 is a leap year\n"
     ]
    }
   ],
   "source": [
    "# 14. Check if a given year is a leap year using both if-else and a function.\n",
    "def is_leap_year(year):\n",
    "    if (year % 4 == 0 and year % 100 != 0) or (year % 400 == 0):\n",
    "        return True\n",
    "    else:\n",
    "        return False\n",
    "\n",
    "year = 2024\n",
    "if is_leap_year(year):\n",
    "    print(year, \"is a leap year\")\n",
    "else:\n",
    "    print(year, \"is not a leap year\")\n"
   ]
  },
  {
   "cell_type": "code",
   "execution_count": 39,
   "id": "c2a80ccd-c9c3-4082-8b02-d8e8f95dd54f",
   "metadata": {},
   "outputs": [
    {
     "name": "stdout",
     "output_type": "stream",
     "text": [
      "Number is positive\n"
     ]
    }
   ],
   "source": [
    "# 15. Explain the purpose of the \"assert\" statement in Python to add debugging checks.\n",
    "number = 100\n",
    "assert number > 0, \"Number should be positive\"\n",
    "print(\"Number is positive\")\n"
   ]
  },
  {
   "cell_type": "code",
   "execution_count": 40,
   "id": "20c64e46-9bcb-48e1-8522-b4f44eb5d21a",
   "metadata": {},
   "outputs": [
    {
     "name": "stdout",
     "output_type": "stream",
     "text": [
      "Age: 65\n",
      "Eligible for senior citizen discount\n"
     ]
    }
   ],
   "source": [
    "# 16. Determine the eligibility of a person for a senior citizen discount based on age using if-else.\n",
    "age = 65\n",
    "if age >= 60:\n",
    "    discount_eligibility = \"Eligible for senior citizen discount\"\n",
    "else:\n",
    "    discount_eligibility = \"Not eligible for senior citizen discount\"\n",
    "print(\"Age:\", age)\n",
    "print(discount_eligibility)\n"
   ]
  },
  {
   "cell_type": "code",
   "execution_count": 41,
   "id": "d389f6f1-b524-4388-b351-1eb0ab087fa0",
   "metadata": {},
   "outputs": [
    {
     "name": "stdout",
     "output_type": "stream",
     "text": [
      "Character: A\n",
      "Category: Uppercase\n"
     ]
    }
   ],
   "source": [
    "# 17. Categorize a given character as uppercase, lowercase, or neither using if-else.\n",
    "char = 'A'\n",
    "if char.islower():\n",
    "    category = \"Lowercase\"\n",
    "elif char.isupper():\n",
    "    category = \"Uppercase\"\n",
    "else:\n",
    "    category = \"Neither uppercase nor lowercase\"\n",
    "print(\"Character:\", char)\n",
    "print(\"Category:\", category)\n"
   ]
  },
  {
   "cell_type": "code",
   "execution_count": 42,
   "id": "afb84ae9-c946-4ba1-9a6d-505d2584b008",
   "metadata": {},
   "outputs": [
    {
     "name": "stdout",
     "output_type": "stream",
     "text": [
      "Roots: 2.0 and 1.0\n",
      "Root Type: Real and distinct roots\n"
     ]
    }
   ],
   "source": [
    "# 18. Determine the roots of a quadratic equation using if-else.\n",
    "import math\n",
    "\n",
    "a = 1\n",
    "b = -3\n",
    "c = 2\n",
    "\n",
    "discriminant = b ** 2 - 4 * a * c\n",
    "\n",
    "if discriminant > 0:\n",
    "    root1 = (-b + math.sqrt(discriminant)) / (2 * a)\n",
    "    root2 = (-b - math.sqrt(discriminant)) / (2 * a)\n",
    "    root_type = \"Real and distinct roots\"\n",
    "elif discriminant == 0:\n",
    "    root1 = root2 = -b / (2 * a)\n",
    "    root_type = \"Real and equal roots\"\n",
    "else:\n",
    "    real_part = -b / (2 * a)\n",
    "    imaginary_part = math.sqrt(abs(discriminant)) / (2 * a)\n",
    "    root1 = f\"{real_part} + {imaginary_part}i\"\n",
    "    root2 = f\"{real_part} - {imaginary_part}i\"\n",
    "    root_type = \"Complex roots\"\n",
    "\n",
    "print(\"Roots:\", root1, \"and\", root2)\n",
    "print(\"Root Type:\", root_type)\n"
   ]
  },
  {
   "cell_type": "code",
   "execution_count": 43,
   "id": "a0511d01-031c-47f2-a1aa-fe488b27912c",
   "metadata": {},
   "outputs": [
    {
     "name": "stdout",
     "output_type": "stream",
     "text": [
      "2000 is a century year: True\n"
     ]
    }
   ],
   "source": [
    "# 19. Check if a given year is a century year or not using if-else.\n",
    "year = 2000\n",
    "if year % 100 == 0:\n",
    "    is_century = True\n",
    "else:\n",
    "    is_century = False\n",
    "print(year, \"is a century year:\", is_century)\n"
   ]
  },
  {
   "cell_type": "code",
   "execution_count": 44,
   "id": "c258cfc7-658d-40d9-9377-e4a948c5fd7a",
   "metadata": {},
   "outputs": [
    {
     "name": "stdout",
     "output_type": "stream",
     "text": [
      "25 is a perfect square: True\n"
     ]
    }
   ],
   "source": [
    "# 20. Determine if a given number is a perfect square using if-else.\n",
    "number = 25\n",
    "sqrt = number ** 0.5\n",
    "if int(sqrt) ** 2 == number:\n",
    "    is_perfect_square = True\n",
    "else:\n",
    "    is_perfect_square = False\n",
    "print(number, \"is a perfect square:\", is_perfect_square)\n"
   ]
  },
  {
   "cell_type": "code",
   "execution_count": 46,
   "id": "a21126fd-2dca-4359-af0b-9ddbb13b1259",
   "metadata": {},
   "outputs": [
    {
     "name": "stdout",
     "output_type": "stream",
     "text": [
      "1\n",
      "3\n"
     ]
    }
   ],
   "source": [
    "# Explain the purpose of the \"continue\" and \"break\" statements within if-else loops.\n",
    "# The continue statement is used to skip the current iteration of a loop and move to the next one, without executing the remaining code inside the loop for that iteration.\n",
    "\n",
    "# The break statement is used to exit a loop prematurely, stopping further iterations, and continuing with the code after the loop.\n",
    "\n",
    "# 21. Example of \"continue\" and \"break\" statements.\n",
    "for i in range(1, 11):\n",
    "    if i % 2 == 0:\n",
    "        continue  # Skip even numbers\n",
    "    if i == 5:\n",
    "        break  # Exit the loop when i is 5\n",
    "    print(i)"
   ]
  },
  {
   "cell_type": "code",
   "execution_count": 47,
   "id": "020ae695-8cb6-45c4-ab31-4bd08db73835",
   "metadata": {},
   "outputs": [
    {
     "name": "stdout",
     "output_type": "stream",
     "text": [
      "Weight: 70 kg\n",
      "Height: 1.75 m\n",
      "BMI Category: Normal weight\n"
     ]
    }
   ],
   "source": [
    "# 22. Calculate the BMI (Body Mass Index) of a person using if-else.\n",
    "def calculate_bmi(weight_kg, height_m):\n",
    "    bmi = weight_kg / (height_m ** 2)\n",
    "    if bmi < 18.5:\n",
    "        return \"Underweight\"\n",
    "    elif 18.5 <= bmi < 24.9:\n",
    "        return \"Normal weight\"\n",
    "    elif 24.9 <= bmi < 29.9:\n",
    "        return \"Overweight\"\n",
    "    else:\n",
    "        return \"Obese\"\n",
    "\n",
    "weight = 70  # in kilograms\n",
    "height = 1.75  # in meters\n",
    "bmi_category = calculate_bmi(weight, height)\n",
    "print(\"Weight:\", weight, \"kg\")\n",
    "print(\"Height:\", height, \"m\")\n",
    "print(\"BMI Category:\", bmi_category)\n"
   ]
  },
  {
   "cell_type": "code",
   "execution_count": 48,
   "id": "aa0b0957-421a-4e57-b5ac-2a7cb6d4711d",
   "metadata": {},
   "outputs": [
    {
     "name": "stdout",
     "output_type": "stream",
     "text": [
      "Original List: [1, 2, 3, 4, 5, 6, 7, 8, 9, 10]\n",
      "Filtered List (Even numbers): [2, 4, 6, 8, 10]\n"
     ]
    }
   ],
   "source": [
    "# 23. Using the \"filter()\" function with if-else statements to filter elements from a list.\n",
    "def is_even(number):\n",
    "    return number % 2 == 0\n",
    "\n",
    "numbers = [1, 2, 3, 4, 5, 6, 7, 8, 9, 10]\n",
    "filtered_numbers = list(filter(is_even, numbers))\n",
    "print(\"Original List:\", numbers)\n",
    "print(\"Filtered List (Even numbers):\", filtered_numbers)\n"
   ]
  },
  {
   "cell_type": "code",
   "execution_count": 49,
   "id": "db905879-3982-49a7-95a9-140bde68251f",
   "metadata": {},
   "outputs": [
    {
     "name": "stdout",
     "output_type": "stream",
     "text": [
      "29 is a prime number\n"
     ]
    }
   ],
   "source": [
    "# 24. Check if a given number is prime or not using if-else.\n",
    "def is_prime(number):\n",
    "    if number <= 1:\n",
    "        return False\n",
    "    elif number <= 3:\n",
    "        return True\n",
    "    elif number % 2 == 0 or number % 3 == 0:\n",
    "        return False\n",
    "    i = 5\n",
    "    while i * i <= number:\n",
    "        if number % i == 0 or number % (i + 2) == 0:\n",
    "            return False\n",
    "        i += 6\n",
    "    return True\n",
    "\n",
    "num = 29\n",
    "if is_prime(num):\n",
    "    print(num, \"is a prime number\")\n",
    "else:\n",
    "    print(num, \"is not a prime number\")\n"
   ]
  },
  {
   "cell_type": "code",
   "execution_count": 50,
   "id": "94a55580-13ae-4372-9d65-0323ca6bbf2d",
   "metadata": {},
   "outputs": [
    {
     "name": "stdout",
     "output_type": "stream",
     "text": [
      "[2, 4, 6, 8, 10]\n"
     ]
    }
   ],
   "source": [
    "# Explain the purpose of the map() function in Python:\n",
    "\n",
    "# The map() function in Python is used to apply a given function to each item of an iterable (e.g., a list) and return a map object, which can be converted to other iterable types (like a list or tuple) to access the results. It's a convenient way to transform and process elements in an iterable without writing explicit loops.\n",
    "\n",
    "# Example: Using map() to double each element of a list of numbers\n",
    "numbers = [1, 2, 3, 4, 5]\n",
    "\n",
    "# Define a function that doubles a number\n",
    "def double(x):\n",
    "    return x * 2\n",
    "\n",
    "# Apply the double function to each element using map()\n",
    "doubled_numbers = map(double, numbers)\n",
    "\n",
    "# Convert the map object to a list to see the results\n",
    "doubled_numbers_list = list(doubled_numbers)\n",
    "\n",
    "print(doubled_numbers_list)\n"
   ]
  },
  {
   "cell_type": "code",
   "execution_count": 51,
   "id": "a7cdf25e-ea54-479d-a8f6-91b7098625cb",
   "metadata": {},
   "outputs": [
    {
     "name": "stdout",
     "output_type": "stream",
     "text": [
      "Original List: [1, 2, 3, 4, 5]\n",
      "Squared List: [1, 4, 9, 16, 25]\n"
     ]
    }
   ],
   "source": [
    "# 2. Using map() to square each element of a list of numbers.\n",
    "numbers = [1, 2, 3, 4, 5]\n",
    "\n",
    "def square(x):\n",
    "    return x ** 2\n",
    "\n",
    "squared_numbers = list(map(square, numbers))\n",
    "print(\"Original List:\", numbers)\n",
    "print(\"Squared List:\", squared_numbers)"
   ]
  },
  {
   "cell_type": "code",
   "execution_count": 52,
   "id": "bff3b042-4f72-4df2-9230-8c061c99eb62",
   "metadata": {},
   "outputs": [],
   "source": [
    "# 3. How does the map() function differ from a list comprehension:\n",
    "\n",
    "# map() is a higher-order function that applies a given function to each element of an iterable and returns a map object. List comprehension constructs a new list by applying an expression to each element of an iterable.\n",
    "# map() requires an explicit function definition, while list comprehension allows you to write the transformation inline.\n",
    "# List comprehension typically results in more concise and readable code. However, map() may be more suitable when you want to apply the same function to multiple iterables or have a more complex transformation."
   ]
  },
  {
   "cell_type": "code",
   "execution_count": 53,
   "id": "0c817519-1c97-4fc3-a723-1c1f98cda182",
   "metadata": {},
   "outputs": [
    {
     "name": "stdout",
     "output_type": "stream",
     "text": [
      "Original List: ['Alice', 'Bob', 'Charlie', 'David']\n",
      "Uppercase Names: ['ALICE', 'BOB', 'CHARLIE', 'DAVID']\n"
     ]
    }
   ],
   "source": [
    "# 4. Using map() to convert a list of names to uppercase.\n",
    "names = [\"Alice\", \"Bob\", \"Charlie\", \"David\"]\n",
    "\n",
    "uppercase_names = list(map(str.upper, names))\n",
    "print(\"Original List:\", names)\n",
    "print(\"Uppercase Names:\", uppercase_names)\n"
   ]
  },
  {
   "cell_type": "code",
   "execution_count": 54,
   "id": "f10b8858-389b-4cf1-8541-743d705dcba9",
   "metadata": {},
   "outputs": [
    {
     "name": "stdout",
     "output_type": "stream",
     "text": [
      "Original List: ['Hello', 'World', 'Python', 'Programming']\n",
      "Word Lengths: [5, 5, 6, 11]\n"
     ]
    }
   ],
   "source": [
    "# 5. Using map() to calculate the length of each word in a list of strings.\n",
    "strings = [\"Hello\", \"World\", \"Python\", \"Programming\"]\n",
    "\n",
    "word_lengths = list(map(len, strings))\n",
    "print(\"Original List:\", strings)\n",
    "print(\"Word Lengths:\", word_lengths)\n"
   ]
  },
  {
   "cell_type": "code",
   "execution_count": 55,
   "id": "91deb1d5-ef40-4a7a-8fed-a67a1713d366",
   "metadata": {},
   "outputs": [],
   "source": [
    "# 6. Using map() to apply a custom function to elements of multiple lists simultaneously:\n",
    "\n",
    "# You can use the map() function with multiple lists by defining a custom function that accepts multiple arguments and then applying it using map()."
   ]
  },
  {
   "cell_type": "code",
   "execution_count": 56,
   "id": "d4d2ca39-0e99-4eaf-9ac6-40032122ea9c",
   "metadata": {},
   "outputs": [
    {
     "name": "stdout",
     "output_type": "stream",
     "text": [
      "Celsius Temperatures: [0, 20, 30, 40, 100]\n",
      "Fahrenheit Temperatures: [32.0, 68.0, 86.0, 104.0, 212.0]\n"
     ]
    }
   ],
   "source": [
    "# 7. Using map() to convert a list of temperatures from Celsius to Fahrenheit.\n",
    "celsius_temperatures = [0, 20, 30, 40, 100]\n",
    "\n",
    "def celsius_to_fahrenheit(celsius):\n",
    "    return (celsius * 9/5) + 32\n",
    "\n",
    "fahrenheit_temperatures = list(map(celsius_to_fahrenheit, celsius_temperatures))\n",
    "print(\"Celsius Temperatures:\", celsius_temperatures)\n",
    "print(\"Fahrenheit Temperatures:\", fahrenheit_temperatures)"
   ]
  },
  {
   "cell_type": "code",
   "execution_count": 57,
   "id": "8a2b2bdf-c61f-48ca-8594-8289ed7b4600",
   "metadata": {},
   "outputs": [
    {
     "name": "stdout",
     "output_type": "stream",
     "text": [
      "Original List: [1.2, 3.7, 5.5, 7.9]\n",
      "Rounded Numbers: [1, 4, 6, 8]\n"
     ]
    }
   ],
   "source": [
    "# 8. Using map() to round each element of a list of floating-point numbers.\n",
    "float_numbers = [1.2, 3.7, 5.5, 7.9]\n",
    "\n",
    "rounded_numbers = list(map(round, float_numbers))\n",
    "print(\"Original List:\", float_numbers)\n",
    "print(\"Rounded Numbers:\", rounded_numbers)"
   ]
  },
  {
   "cell_type": "code",
   "execution_count": 58,
   "id": "effffe2e-372d-424f-9f48-75e644bef4de",
   "metadata": {},
   "outputs": [
    {
     "name": "stdout",
     "output_type": "stream",
     "text": [
      "15\n"
     ]
    }
   ],
   "source": [
    "# 1. What is the reduce() function in Python, and what module should you import to use it? Provide an example of its basic usage.\n",
    "\n",
    "# The reduce() function in Python is a built-in function that is part of the functools module. It's used for reducing an iterable to a single cumulative result by repeatedly applying a specified function to the items of the iterable.\n",
    "\n",
    "import functools\n",
    "\n",
    "# Example: Using reduce() to find the sum of elements in a list\n",
    "numbers = [1, 2, 3, 4, 5]\n",
    "\n",
    "# Define a function to add two numbers\n",
    "def add(x, y):\n",
    "    return x + y\n",
    "\n",
    "# Apply the add function cumulatively to the list using reduce()\n",
    "total = functools.reduce(add, numbers)\n",
    "\n",
    "print(total)"
   ]
  },
  {
   "cell_type": "code",
   "execution_count": 59,
   "id": "85ad3acd-f8f9-466e-adde-a01add05f086",
   "metadata": {},
   "outputs": [
    {
     "name": "stdout",
     "output_type": "stream",
     "text": [
      "120\n"
     ]
    }
   ],
   "source": [
    "# 2. Write a Python program that uses the reduce() function to find the product of all elements in a list.\n",
    "\n",
    "import functools\n",
    "\n",
    "# Example: Using reduce() to find the product of elements in a list\n",
    "numbers = [2, 3, 4, 5]\n",
    "\n",
    "# Define a function to multiply two numbers\n",
    "def multiply(x, y):\n",
    "    return x * y\n",
    "\n",
    "# Apply the multiply function cumulatively to the list using reduce()\n",
    "product = functools.reduce(multiply, numbers)\n",
    "\n",
    "print(product)"
   ]
  },
  {
   "cell_type": "code",
   "execution_count": 60,
   "id": "65039cb8-3e07-465d-979d-75e6181062c8",
   "metadata": {},
   "outputs": [
    {
     "name": "stdout",
     "output_type": "stream",
     "text": [
      "65\n"
     ]
    }
   ],
   "source": [
    "# 3. Create a Python program that uses reduce() to find the maximum element in a list of numbers.\n",
    "\n",
    "import functools\n",
    "\n",
    "# Example: Using reduce() to find the maximum element in a list\n",
    "numbers = [12, 35, 6, 9, 65, 48]\n",
    "\n",
    "# Define a function to find the maximum of two numbers\n",
    "def max_of_two(x, y):\n",
    "    return x if x > y else y\n",
    "\n",
    "# Apply the max_of_two function cumulatively to the list using reduce()\n",
    "maximum = functools.reduce(max_of_two, numbers)\n",
    "\n",
    "print(maximum)"
   ]
  },
  {
   "cell_type": "code",
   "execution_count": 61,
   "id": "d86ac21a-80c0-4dde-96ab-1ca936010cb2",
   "metadata": {},
   "outputs": [
    {
     "name": "stdout",
     "output_type": "stream",
     "text": [
      "Hello, World, Python!\n"
     ]
    }
   ],
   "source": [
    "# 4. How can you use the reduce() function to concatenate a list of strings into a single string?\n",
    "\n",
    "import functools\n",
    "\n",
    "# Example: Using reduce() to concatenate a list of strings into a single string\n",
    "strings = [\"Hello, \", \"World, \", \"Python!\"]\n",
    "\n",
    "# Define a function to concatenate two strings\n",
    "def concatenate_strings(x, y):\n",
    "    return x + y\n",
    "\n",
    "# Apply the concatenate_strings function cumulatively to the list using reduce()\n",
    "concatenated = functools.reduce(concatenate_strings, strings)\n",
    "\n",
    "print(concatenated)"
   ]
  },
  {
   "cell_type": "code",
   "execution_count": 62,
   "id": "192f33b7-1af7-40a0-a032-230c99a59b39",
   "metadata": {},
   "outputs": [
    {
     "name": "stdout",
     "output_type": "stream",
     "text": [
      "120\n"
     ]
    }
   ],
   "source": [
    "# 5. Write a Python program that calculates the factorial of a number using the reduce() function.\n",
    "\n",
    "import functools\n",
    "\n",
    "# Example: Using reduce() to calculate the factorial of a number\n",
    "num = 5\n",
    "\n",
    "# Define a function to compute the factorial of two numbers\n",
    "def factorial(x, y):\n",
    "    return x * y\n",
    "\n",
    "# Apply the factorial function cumulatively to a range of numbers using reduce()\n",
    "factorial_result = functools.reduce(factorial, range(1, num + 1))\n",
    "\n",
    "print(factorial_result)"
   ]
  },
  {
   "cell_type": "code",
   "execution_count": 63,
   "id": "ca192ea3-10f1-4224-8dca-c27f3e048544",
   "metadata": {},
   "outputs": [
    {
     "name": "stdout",
     "output_type": "stream",
     "text": [
      "12\n"
     ]
    }
   ],
   "source": [
    "# 6. Create a Python program that uses reduce() to find the GCD (Greatest Common Divisor) of a list of numbers.\n",
    "\n",
    "import functools\n",
    "import math\n",
    "\n",
    "# Example: Using reduce() to find the GCD of a list of numbers\n",
    "numbers = [24, 36, 48, 60]\n",
    "\n",
    "# Define a function to find the GCD of two numbers\n",
    "def gcd(x, y):\n",
    "    return math.gcd(x, y)\n",
    "\n",
    "# Apply the gcd function cumulatively to the list using reduce()\n",
    "gcd_result = functools.reduce(gcd, numbers)\n",
    "\n",
    "print(gcd_result)"
   ]
  },
  {
   "cell_type": "code",
   "execution_count": 64,
   "id": "33e4bcdd-ef48-4280-8f7c-d3beec499cb3",
   "metadata": {},
   "outputs": [
    {
     "name": "stdout",
     "output_type": "stream",
     "text": [
      "15\n"
     ]
    }
   ],
   "source": [
    "# 7. Write a Python program that uses the reduce() function to find the sum of the digits of a given number.\n",
    "\n",
    "import functools\n",
    "\n",
    "# Example: Using reduce() to find the sum of the digits of a number\n",
    "number = 12345\n",
    "\n",
    "# Define a function to add the digits of two numbers\n",
    "def add_digits(x, y):\n",
    "    return x + y\n",
    "\n",
    "# Convert the number to a list of its digits\n",
    "digits = [int(digit) for digit in str(number)]\n",
    "\n",
    "# Apply the add_digits function cumulatively to the list using reduce()\n",
    "digit_sum = functools.reduce(add_digits, digits)\n",
    "\n",
    "print(digit_sum)"
   ]
  },
  {
   "cell_type": "code",
   "execution_count": 65,
   "id": "5b8dbfd2-a877-46d9-85a2-12d33f71d257",
   "metadata": {},
   "outputs": [
    {
     "name": "stdout",
     "output_type": "stream",
     "text": [
      "[2, 4, 6, 8, 10]\n"
     ]
    }
   ],
   "source": [
    "# Using filter() to select even numbers from a list\n",
    "numbers = [1, 2, 3, 4, 5, 6, 7, 8, 9, 10]\n",
    "\n",
    "# Define a function to filter even numbers\n",
    "def is_even(num):\n",
    "    return num % 2 == 0\n",
    "\n",
    "even_numbers = list(filter(is_even, numbers))\n",
    "print(even_numbers)"
   ]
  },
  {
   "cell_type": "code",
   "execution_count": 66,
   "id": "5ad52f67-1f44-49db-a220-993735975987",
   "metadata": {},
   "outputs": [
    {
     "name": "stdout",
     "output_type": "stream",
     "text": [
      "[4, 6, 10]\n"
     ]
    }
   ],
   "source": [
    "# Using filter() to select even numbers from a list\n",
    "numbers = [1, 3, 4, 5, 6, 7, 9, 10]\n",
    "\n",
    "# Define a function to filter even numbers\n",
    "def is_even(num):\n",
    "    return num % 2 == 0\n",
    "\n",
    "even_numbers = list(filter(is_even, numbers))\n",
    "print(even_numbers)"
   ]
  },
  {
   "cell_type": "code",
   "execution_count": 67,
   "id": "2561a54b-e6a3-4388-8d53-7f92453235d4",
   "metadata": {},
   "outputs": [
    {
     "name": "stdout",
     "output_type": "stream",
     "text": [
      "['Alice', 'Anna', 'Andrew']\n"
     ]
    }
   ],
   "source": [
    "# Using filter() to select names starting with 'A' from a list of strings\n",
    "names = [\"Alice\", \"Bob\", \"Anna\", \"David\", \"Andrew\"]\n",
    "\n",
    "# Define a function to filter names starting with 'A'\n",
    "def starts_with_A(name):\n",
    "    return name.startswith(\"A\")\n",
    "\n",
    "filtered_names = list(filter(starts_with_A, names))\n",
    "print(filtered_names)"
   ]
  },
  {
   "cell_type": "code",
   "execution_count": 68,
   "id": "c8f6b235-95f1-4adc-86a8-1fa09033712e",
   "metadata": {},
   "outputs": [
    {
     "name": "stdout",
     "output_type": "stream",
     "text": [
      "[2, 3, 5, 7, 11]\n"
     ]
    }
   ],
   "source": [
    "# Using filter() to select prime numbers from a list\n",
    "numbers = [2, 3, 4, 5, 6, 7, 8, 9, 10, 11]\n",
    "\n",
    "# Define a function to check for primality\n",
    "def is_prime(num):\n",
    "    if num < 2:\n",
    "        return False\n",
    "    for i in range(2, int(num ** 0.5) + 1):\n",
    "        if num % i == 0:\n",
    "            return False\n",
    "    return True\n",
    "\n",
    "prime_numbers = list(filter(is_prime, numbers))\n",
    "print(prime_numbers)"
   ]
  },
  {
   "cell_type": "code",
   "execution_count": 69,
   "id": "c103cb79-282e-4c19-aa75-a7406a0861b2",
   "metadata": {},
   "outputs": [
    {
     "name": "stdout",
     "output_type": "stream",
     "text": [
      "[1, 2, 3, 4, 5]\n"
     ]
    }
   ],
   "source": [
    "# Using filter() to remove None values from a list\n",
    "values = [1, 2, None, 3, 4, None, 5]\n",
    "\n",
    "filtered_values = list(filter(lambda x: x is not None, values))\n",
    "print(filtered_values)"
   ]
  },
  {
   "cell_type": "code",
   "execution_count": 70,
   "id": "6bde7ac9-15fd-4b3f-8d72-30656fd5049b",
   "metadata": {},
   "outputs": [
    {
     "name": "stdout",
     "output_type": "stream",
     "text": [
      "['banana', 'cherry', 'elderberry']\n"
     ]
    }
   ],
   "source": [
    "# Using filter() to select words longer than 5 characters from a list of strings\n",
    "words = [\"apple\", \"banana\", \"cherry\", \"date\", \"elderberry\"]\n",
    "\n",
    "# Define a function to filter words longer than 5 characters\n",
    "def is_long(word):\n",
    "    return len(word) > 5\n",
    "\n",
    "long_words = list(filter(is_long, words))\n",
    "print(long_words)"
   ]
  },
  {
   "cell_type": "code",
   "execution_count": 71,
   "id": "376b07dd-181c-410f-9de3-9f1504a11286",
   "metadata": {},
   "outputs": [
    {
     "name": "stdout",
     "output_type": "stream",
     "text": [
      "[60, 80, 90]\n"
     ]
    }
   ],
   "source": [
    "# Using filter() to select values greater than 50 from a list\n",
    "values = [30, 60, 10, 80, 50, 90, 20]\n",
    "\n",
    "# Define a function to filter values greater than 50\n",
    "threshold = 50\n",
    "def is_greater_than_threshold(value):\n",
    "    return value > threshold\n",
    "\n",
    "filtered_values = list(filter(is_greater_than_threshold, values))\n",
    "print(filtered_values)"
   ]
  },
  {
   "cell_type": "code",
   "execution_count": 72,
   "id": "dbebbf3c-bca9-4da1-aeb2-c5f26cb54959",
   "metadata": {},
   "outputs": [],
   "source": [
    "# Explanation: Recursion is a programming concept where a function calls itself to solve a problem. \n",
    "# It's different from iteration, which uses loops (for, while) to repeatedly execute a block of code.\n",
    "# Recursive functions break a problem into smaller subproblems, solve them, and combine the results.\n"
   ]
  },
  {
   "cell_type": "code",
   "execution_count": 73,
   "id": "6d8edcdc-7b97-4e63-b2e0-a21af525f3f1",
   "metadata": {},
   "outputs": [
    {
     "name": "stdout",
     "output_type": "stream",
     "text": [
      "The factorial of 5 is 120\n"
     ]
    }
   ],
   "source": [
    "def factorial(n):\n",
    "    if n == 0:\n",
    "        return 1\n",
    "    else:\n",
    "        return n * factorial(n - 1)\n",
    "\n",
    "n = 5\n",
    "result = factorial(n)\n",
    "print(f\"The factorial of {n} is {result}\")"
   ]
  },
  {
   "cell_type": "code",
   "execution_count": 74,
   "id": "947ac463-4a1a-4ac8-b73d-31132ed228ac",
   "metadata": {},
   "outputs": [
    {
     "name": "stdout",
     "output_type": "stream",
     "text": [
      "The 6th Fibonacci number is 8\n"
     ]
    }
   ],
   "source": [
    "def fibonacci(n):\n",
    "    if n <= 1:\n",
    "        return n\n",
    "    else:\n",
    "        return fibonacci(n - 1) + fibonacci(n - 2)\n",
    "\n",
    "n = 6\n",
    "result = fibonacci(n)\n",
    "print(f\"The {n}th Fibonacci number is {result}\")"
   ]
  },
  {
   "cell_type": "code",
   "execution_count": 75,
   "id": "94e5a9e4-650d-42ab-8715-d0057ca41dc1",
   "metadata": {},
   "outputs": [
    {
     "name": "stdout",
     "output_type": "stream",
     "text": [
      "The sum of the elements is 15\n"
     ]
    }
   ],
   "source": [
    "def recursive_sum(arr):\n",
    "    if not arr:\n",
    "        return 0\n",
    "    else:\n",
    "        return arr[0] + recursive_sum(arr[1:])\n",
    "\n",
    "numbers = [1, 2, 3, 4, 5]\n",
    "result = recursive_sum(numbers)\n",
    "print(f\"The sum of the elements is {result}\")"
   ]
  },
  {
   "cell_type": "code",
   "execution_count": 76,
   "id": "0e078ca0-1977-4b2d-91f4-a144679ff770",
   "metadata": {},
   "outputs": [],
   "source": [
    "# How can you prevent a recursive function from running indefinitely, causing a stack overflow error?\n",
    "\n",
    "# You can prevent infinite recursion by including a base case that defines when the recursion should stop. A missing or incorrect base case can lead to a stack overflow."
   ]
  },
  {
   "cell_type": "code",
   "execution_count": 77,
   "id": "c447cda4-d849-4c3f-8af6-1f174ed1930c",
   "metadata": {},
   "outputs": [
    {
     "name": "stdout",
     "output_type": "stream",
     "text": [
      "The GCD of 48 and 18 is 6\n"
     ]
    }
   ],
   "source": [
    "def euclidean_gcd(a, b):\n",
    "    if b == 0:\n",
    "        return a\n",
    "    else:\n",
    "        return euclidean_gcd(b, a % b)\n",
    "\n",
    "num1, num2 = 48, 18\n",
    "result = euclidean_gcd(num1, num2)\n",
    "print(f\"The GCD of {num1} and {num2} is {result}\")"
   ]
  },
  {
   "cell_type": "code",
   "execution_count": 78,
   "id": "d1ec8022-0eda-4d69-9ba1-d12491b67e21",
   "metadata": {},
   "outputs": [
    {
     "name": "stdout",
     "output_type": "stream",
     "text": [
      "The reversed string is: olleh\n"
     ]
    }
   ],
   "source": [
    "def reverse_string(s):\n",
    "    if s == \"\":\n",
    "        return s\n",
    "    else:\n",
    "        return reverse_string(s[1:]) + s[0]\n",
    "\n",
    "text = \"hello\"\n",
    "result = reverse_string(text)\n",
    "print(f\"The reversed string is: {result}\")"
   ]
  },
  {
   "cell_type": "code",
   "execution_count": 79,
   "id": "f4121a5e-77a5-46fe-897b-655f90131f47",
   "metadata": {},
   "outputs": [
    {
     "name": "stdout",
     "output_type": "stream",
     "text": [
      "2 raised to the power 3 is 8\n"
     ]
    }
   ],
   "source": [
    "def power(x, n):\n",
    "    if n == 0:\n",
    "        return 1\n",
    "    else:\n",
    "        return x * power(x, n - 1)\n",
    "\n",
    "base, exponent = 2, 3\n",
    "result = power(base, exponent)\n",
    "print(f\"{base} raised to the power {exponent} is {result}\")\n"
   ]
  },
  {
   "cell_type": "code",
   "execution_count": 80,
   "id": "0bb55533-5a76-4fdc-8a8c-735f7041e7da",
   "metadata": {},
   "outputs": [
    {
     "name": "stdout",
     "output_type": "stream",
     "text": [
      "Permutations of 'abc': ['abc', 'acb', 'bac', 'bca', 'cab', 'cba']\n"
     ]
    }
   ],
   "source": [
    "def get_permutations(s):\n",
    "    if len(s) == 1:\n",
    "        return [s]\n",
    "    perms = []\n",
    "    for i, char in enumerate(s):\n",
    "        for perm in get_permutations(s[:i] + s[i + 1:]):\n",
    "            perms.append(char + perm)\n",
    "    return perms\n",
    "\n",
    "word = \"abc\"\n",
    "permutations = get_permutations(word)\n",
    "print(f\"Permutations of '{word}': {permutations}\")"
   ]
  },
  {
   "cell_type": "code",
   "execution_count": 81,
   "id": "4d73e3d5-72fe-4dca-b1d1-6d59bc865125",
   "metadata": {},
   "outputs": [
    {
     "name": "stdout",
     "output_type": "stream",
     "text": [
      "'A man a plan a canal Panama' is a palindrome.\n"
     ]
    }
   ],
   "source": [
    "def is_palindrome(s):\n",
    "    s = s.lower().replace(\" \", \"\")\n",
    "    if len(s) <= 1:\n",
    "        return True\n",
    "    elif s[0] != s[-1]:\n",
    "        return False\n",
    "    else:\n",
    "        return is_palindrome(s[1:-1])\n",
    "\n",
    "text = \"A man a plan a canal Panama\"\n",
    "if is_palindrome(text):\n",
    "    print(f\"'{text}' is a palindrome.\")\n",
    "else:\n",
    "    print(f\"'{text}' is not a palindrome.\")"
   ]
  },
  {
   "cell_type": "code",
   "execution_count": 82,
   "id": "1c46e0a8-77ae-4bdc-bdb1-8365cc17df01",
   "metadata": {},
   "outputs": [
    {
     "name": "stdout",
     "output_type": "stream",
     "text": [
      "Combinations of [1, 2, 3]: [(1,), (2,), (3,), (1, 2), (1, 3), (2, 3), (1, 2, 3)]\n"
     ]
    }
   ],
   "source": [
    "from itertools import combinations\n",
    "\n",
    "def get_combinations(arr):\n",
    "    all_combinations = []\n",
    "    for r in range(1, len(arr) + 1):\n",
    "        all_combinations.extend(combinations(arr, r))\n",
    "    return all_combinations\n",
    "\n",
    "elements = [1, 2, 3]\n",
    "combinations = get_combinations(elements)\n",
    "print(f\"Combinations of {elements}: {combinations}\")"
   ]
  },
  {
   "cell_type": "code",
   "execution_count": 83,
   "id": "ed2c2038-3648-42b4-b3ca-938e4be2a0a0",
   "metadata": {},
   "outputs": [],
   "source": [
    "# What is a function in Python, and why is it used?\n",
    "\n",
    "# A function in Python is a block of organized, reusable code that performs a specific task or set of tasks. It is used to encapsulate a piece of code and make it modular and easier to maintain. Functions can take inputs (arguments) and provide outputs, allowing for code reusability and abstraction."
   ]
  },
  {
   "cell_type": "code",
   "execution_count": 84,
   "id": "dee089d2-8516-49a8-b9a5-a9b486e8878a",
   "metadata": {},
   "outputs": [
    {
     "name": "stdout",
     "output_type": "stream",
     "text": [
      "Hello, Alice!\n"
     ]
    }
   ],
   "source": [
    "def greet(name):\n",
    "    print(f\"Hello, {name}!\")\n",
    "\n",
    "# Function call\n",
    "greet(\"Alice\")"
   ]
  },
  {
   "cell_type": "code",
   "execution_count": 85,
   "id": "db82bb3d-a6bd-477e-b845-dc83ff67506b",
   "metadata": {},
   "outputs": [],
   "source": [
    "# Explain the difference between a function definition and a function call.\n",
    "\n",
    "# A function definition is the creation of a function, where you specify the name, parameters, and code block that defines what the function does. It acts as a blueprint. A function call, on the other hand, is the actual execution of the function, using its name and providing the necessary arguments. When you call a function, you instruct Python to execute the code within the function definition."
   ]
  },
  {
   "cell_type": "code",
   "execution_count": 86,
   "id": "305ac44c-494f-42bd-9f37-b5fa9ab66f50",
   "metadata": {},
   "outputs": [
    {
     "name": "stdout",
     "output_type": "stream",
     "text": [
      "The sum of 5 and 7 is 12\n"
     ]
    }
   ],
   "source": [
    "def add_numbers(a, b):\n",
    "    return a + b\n",
    "\n",
    "num1 = 5\n",
    "num2 = 7\n",
    "result = add_numbers(num1, num2)\n",
    "print(f\"The sum of {num1} and {num2} is {result}\")"
   ]
  },
  {
   "cell_type": "code",
   "execution_count": 87,
   "id": "a2242ee8-703f-43ea-aef7-e5c00d120198",
   "metadata": {},
   "outputs": [],
   "source": [
    "# What is a function signature, and what information does it typically include?\n",
    "\n",
    "# A function signature typically includes the function name, parameter names, and their data types. It defines the structure of a function, helping you understand how to call it. For example, in the function def add(a: int, b: int), the signature includes the function name \"add,\" along with two parameters, \"a\" and \"b,\" both of data type \"int.\""
   ]
  },
  {
   "cell_type": "code",
   "execution_count": 88,
   "id": "ff3e49d2-fc69-4195-b68d-60f42d38d08d",
   "metadata": {},
   "outputs": [
    {
     "name": "stdout",
     "output_type": "stream",
     "text": [
      "The product of 4 and 6 is 24\n"
     ]
    }
   ],
   "source": [
    "def multiply(a, b):\n",
    "    return a * b\n",
    "\n",
    "num1 = 4\n",
    "num2 = 6\n",
    "result = multiply(num1, num2)\n",
    "print(f\"The product of {num1} and {num2} is {result}\")"
   ]
  },
  {
   "cell_type": "code",
   "execution_count": 89,
   "id": "67250f19-5ce6-4c70-ac68-06a8d1c0c4aa",
   "metadata": {},
   "outputs": [],
   "source": [
    "# Explain the concepts of formal parameters and actual arguments in Python functions.\n",
    "\n",
    "# Formal parameters are the variables declared in the function definition. They act as placeholders for values that will be provided when the function is called. Actual arguments, on the other hand, are the values or expressions passed to the function during the function call. These values are assigned to the corresponding formal parameters."
   ]
  },
  {
   "cell_type": "code",
   "execution_count": 90,
   "id": "f63a6926-e9f8-4426-a44d-2599be0fb722",
   "metadata": {},
   "outputs": [
    {
     "name": "stdout",
     "output_type": "stream",
     "text": [
      "Hello, Guest!\n",
      "Hello, Alice!\n"
     ]
    }
   ],
   "source": [
    "def greet(name=\"Guest\"):\n",
    "    print(f\"Hello, {name}!\")\n",
    "\n",
    "greet()  # Calls the function with the default value\n",
    "greet(\"Alice\")  # Calls the function with a specific value"
   ]
  },
  {
   "cell_type": "code",
   "execution_count": 91,
   "id": "5e12ecba-a735-4bdc-aa38-081044db0b44",
   "metadata": {},
   "outputs": [
    {
     "name": "stdout",
     "output_type": "stream",
     "text": [
      "Alice is 30 years old.\n"
     ]
    }
   ],
   "source": [
    "def describe_person(name, age):\n",
    "    print(f\"{name} is {age} years old.\")\n",
    "\n",
    "describe_person(age=30, name=\"Alice\")  # Using keyword arguments"
   ]
  },
  {
   "cell_type": "code",
   "execution_count": 92,
   "id": "3bf04b9c-ba32-4a40-b5f4-74b02e477a3f",
   "metadata": {},
   "outputs": [
    {
     "name": "stdout",
     "output_type": "stream",
     "text": [
      "The sum is: 20\n"
     ]
    }
   ],
   "source": [
    "def calculate_sum(*args):\n",
    "    total = sum(args)\n",
    "    return total\n",
    "\n",
    "result = calculate_sum(2, 4, 6, 8)\n",
    "print(f\"The sum is: {result}\")"
   ]
  },
  {
   "cell_type": "code",
   "execution_count": 93,
   "id": "54ef84bd-49c7-4e7e-9a7b-04bec385d1f2",
   "metadata": {},
   "outputs": [],
   "source": [
    "# What is the purpose of the *args and **kwargs syntax in function parameter lists?\n",
    "\n",
    "# The *args syntax allows a function to accept a variable number of non-keyword arguments, which are packed into a tuple. It's useful when you want to pass an arbitrary number of values to a function without specifying the exact number of arguments.\n",
    "\n",
    "# The **kwargs syntax allows a function to accept a variable number of keyword arguments, which are packed into a dictionary. It's useful when you want to pass multiple named arguments to a function without specifying them explicitly."
   ]
  },
  {
   "cell_type": "code",
   "execution_count": 94,
   "id": "b40e8013-12e0-4350-8cf3-95f1cf0d3d6d",
   "metadata": {},
   "outputs": [
    {
     "name": "stdout",
     "output_type": "stream",
     "text": [
      "8\n"
     ]
    }
   ],
   "source": [
    "def add(a, b):\n",
    "    result = a + b\n",
    "    return result  # Returns the result to the caller\n",
    "\n",
    "sum_result = add(3, 5)  # Calls the function and assigns the returned result to sum_result\n",
    "print(sum_result)"
   ]
  },
  {
   "cell_type": "code",
   "execution_count": 95,
   "id": "c14fb924-96e9-47c2-b526-e2b3cf59df5f",
   "metadata": {},
   "outputs": [],
   "source": [
    "# Explain the concept of variable scope in Python, including local and global variables.\n",
    "\n",
    "# Variable scope refers to the area of code where a variable is accessible. In Python, there are two main types of variable scope:\n",
    "# Local Variables: These are variables defined within a function and are only accessible within that function.\n",
    "# Global Variables: These are variables defined outside of any function and can be accessed from anywhere in the code."
   ]
  },
  {
   "cell_type": "code",
   "execution_count": 96,
   "id": "b1caaadc-84a8-469e-b35a-7da4e2ae17ac",
   "metadata": {},
   "outputs": [
    {
     "name": "stdout",
     "output_type": "stream",
     "text": [
      "15\n"
     ]
    }
   ],
   "source": [
    "global_var = 10  # This is a global variable\n",
    "\n",
    "def modify_global():\n",
    "    global global_var  # Declare that we are using the global variable\n",
    "    global_var += 5\n",
    "\n",
    "modify_global()  # Calls the function to modify the global variable\n",
    "print(global_var)"
   ]
  },
  {
   "cell_type": "code",
   "execution_count": 97,
   "id": "fb2c4a58-5150-4db9-9fc0-28bb2bfb3a01",
   "metadata": {},
   "outputs": [
    {
     "name": "stdout",
     "output_type": "stream",
     "text": [
      "120\n"
     ]
    }
   ],
   "source": [
    "def factorial(n):\n",
    "    if n == 0:\n",
    "        return 1\n",
    "    else:\n",
    "        return n * factorial(n - 1)\n",
    "\n",
    "result = factorial(5)  # Calculates the factorial of 5\n",
    "print(result)"
   ]
  },
  {
   "cell_type": "code",
   "execution_count": 98,
   "id": "7954d00d-225d-4a7a-847e-370864b2524a",
   "metadata": {},
   "outputs": [],
   "source": [
    "# How can you access variables defined outside a function from within the function?\n",
    "\n",
    "# To access variables defined outside a function from within the function, you can use the global keyword before the variable name. This tells the function to treat the variable as a global variable, allowing you to read and modify its value."
   ]
  },
  {
   "cell_type": "code",
   "execution_count": 99,
   "id": "40858b84-8d33-42a2-a040-74fdb9bf7351",
   "metadata": {},
   "outputs": [],
   "source": [
    "# What are lambda functions in Python, and when are they typically used?\n",
    "\n",
    "# Lambda functions, also known as anonymous functions, are small, nameless functions defined using the lambda keyword. They are typically used for short, simple operations and are often used when you need a small function for a short period of time. Lambda functions can take any number of arguments but can only have one expression."
   ]
  },
  {
   "cell_type": "code",
   "execution_count": 100,
   "id": "11748f90-1be6-43c2-9312-7506976cfacf",
   "metadata": {},
   "outputs": [
    {
     "name": "stdout",
     "output_type": "stream",
     "text": [
      "[(4, 1), (3, 2), (1, 5), (2, 8)]\n"
     ]
    }
   ],
   "source": [
    "data = [(1, 5), (3, 2), (2, 8), (4, 1)]\n",
    "sorted_data = sorted(data, key=lambda x: x[1])\n",
    "print(sorted_data)"
   ]
  },
  {
   "cell_type": "code",
   "execution_count": 101,
   "id": "3299b672-e5c3-43e9-8df7-5352dd09e9cf",
   "metadata": {},
   "outputs": [
    {
     "name": "stdout",
     "output_type": "stream",
     "text": [
      "[1, 4, 9, 16]\n"
     ]
    }
   ],
   "source": [
    "def apply(func, data):\n",
    "    return [func(item) for item in data]\n",
    "\n",
    "def square(x):\n",
    "    return x * x\n",
    "\n",
    "numbers = [1, 2, 3, 4]\n",
    "squared_numbers = apply(square, numbers)\n",
    "print(squared_numbers)"
   ]
  },
  {
   "cell_type": "code",
   "execution_count": 102,
   "id": "37d0d639-c28e-413e-a1b2-c84fca6f15d7",
   "metadata": {},
   "outputs": [
    {
     "name": "stdout",
     "output_type": "stream",
     "text": [
      "[1, 8, 27, 64]\n"
     ]
    }
   ],
   "source": [
    "def apply_function(func, data):\n",
    "    return [func(item) for item in data]\n",
    "\n",
    "def cube(x):\n",
    "    return x ** 3\n",
    "\n",
    "numbers = [1, 2, 3, 4]\n",
    "cubed_numbers = apply_function(cube, numbers)\n",
    "print(cubed_numbers)"
   ]
  },
  {
   "cell_type": "code",
   "execution_count": 103,
   "id": "e1ba8d3b-22d5-415c-9d00-91429b807ea3",
   "metadata": {},
   "outputs": [],
   "source": [
    "# Describe the role of built-in functions like len(), max(), and min() in Python.\n",
    "\n",
    "# Built-in functions like len(), max(), and min() are used to perform common operations on data structures or collections.\n",
    "# len() returns the length (number of elements) of a collection.\n",
    "# max() returns the maximum element in a collection.\n",
    "# min() returns the minimum element in a collection."
   ]
  },
  {
   "cell_type": "code",
   "execution_count": 104,
   "id": "306f6d20-bc6d-4d6d-bf60-7b6d6676a73a",
   "metadata": {},
   "outputs": [
    {
     "name": "stdout",
     "output_type": "stream",
     "text": [
      "[1, 4, 9, 16]\n"
     ]
    }
   ],
   "source": [
    "def square(x):\n",
    "    return x * x\n",
    "\n",
    "numbers = [1, 2, 3, 4]\n",
    "squared_numbers = list(map(square, numbers))\n",
    "print(squared_numbers)"
   ]
  },
  {
   "cell_type": "code",
   "execution_count": 105,
   "id": "42a994aa-b61f-48b0-8ba1-69cd75e813c3",
   "metadata": {},
   "outputs": [],
   "source": [
    "# How does the filter() function work in Python, and when would you use it?\n",
    "\n",
    "# The filter() function is used to filter elements from an iterable based on a specified condition or function. It returns an iterator containing elements that satisfy the given condition.\n",
    "# It is useful when you want to extract specific elements from a collection based on a certain criteria."
   ]
  },
  {
   "cell_type": "code",
   "execution_count": 106,
   "id": "64145c5c-fc8a-4e48-b0bf-2d413804beb7",
   "metadata": {},
   "outputs": [
    {
     "name": "stdout",
     "output_type": "stream",
     "text": [
      "24\n"
     ]
    }
   ],
   "source": [
    "from functools import reduce\n",
    "\n",
    "def multiply(x, y):\n",
    "    return x * y\n",
    "\n",
    "numbers = [1, 2, 3, 4]\n",
    "product = reduce(multiply, numbers)\n",
    "print(product)"
   ]
  },
  {
   "cell_type": "code",
   "execution_count": 107,
   "id": "c39098e0-77a3-4bc9-9326-7a696c3fd93b",
   "metadata": {},
   "outputs": [],
   "source": [
    "def add(a, b):\n",
    "    \"\"\"\n",
    "    This function adds two numbers.\n",
    "\n",
    "    Args:\n",
    "        a (int): The first number.\n",
    "        b (int): The second number.\n",
    "\n",
    "    Returns:\n",
    "        int: The sum of the two numbers.\n",
    "    \"\"\"\n",
    "    return a + b"
   ]
  },
  {
   "cell_type": "code",
   "execution_count": 109,
   "id": "b5556eaf-93c1-437d-ac7a-f4170623047f",
   "metadata": {},
   "outputs": [
    {
     "data": {
      "text/plain": [
       "47"
      ]
     },
     "execution_count": 109,
     "metadata": {},
     "output_type": "execute_result"
    }
   ],
   "source": [
    "add(13, 34)"
   ]
  },
  {
   "cell_type": "code",
   "execution_count": 110,
   "id": "6463d491-8da0-42c9-98fa-cedebc0d13c1",
   "metadata": {},
   "outputs": [],
   "source": [
    "# Describe some best practices for naming functions and variables in Python, including naming conventions and guidelines.\n",
    "\n",
    "# Follow the PEP 8 naming conventions:\n",
    "# Use lowercase letters for function and variable names (e.g., my_function, my_variable).\n",
    "# Use underscores to separate words in names (e.g., word_list, max_value).\n",
    "# Use descriptive names that reflect the purpose of the function or variable.\n",
    "# Be consistent with naming styles throughout your code.\n",
    "# Avoid using reserved words or built-in function names as identifiers.\n",
    "# Use meaningful names that make your code self-explanatory.\n",
    "# For constants, use uppercase letters with underscores (e.g., PI, MAX_LENGTH).\n",
    "# Avoid using single-letter variable names unless they have a well-known meaning (e.g., i for an index in a loop).\n",
    "# Use verb-noun naming for functions (e.g., calculate_total, fetch_data).\n",
    "# Choose variable names that reflect the data they store (e.g., name for a person's name).\n"
   ]
  },
  {
   "cell_type": "code",
   "execution_count": null,
   "id": "6ec3b263-e98f-445c-8f96-f236b45ef6f7",
   "metadata": {},
   "outputs": [],
   "source": []
  }
 ],
 "metadata": {
  "kernelspec": {
   "display_name": "Python 3 (ipykernel)",
   "language": "python",
   "name": "python3"
  },
  "language_info": {
   "codemirror_mode": {
    "name": "ipython",
    "version": 3
   },
   "file_extension": ".py",
   "mimetype": "text/x-python",
   "name": "python",
   "nbconvert_exporter": "python",
   "pygments_lexer": "ipython3",
   "version": "3.10.8"
  }
 },
 "nbformat": 4,
 "nbformat_minor": 5
}
